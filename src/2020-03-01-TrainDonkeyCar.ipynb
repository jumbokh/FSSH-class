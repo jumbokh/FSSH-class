{
  "nbformat": 4,
  "nbformat_minor": 0,
  "metadata": {
    "accelerator": "GPU",
    "colab": {
      "name": "Donkey Car Training  modified using Google Colab",
      "provenance": [],
      "collapsed_sections": [],
      "toc_visible": true,
      "include_colab_link": true
    },
    "kernelspec": {
      "display_name": "Python 3",
      "language": "python",
      "name": "python3"
    },
    "language_info": {
      "codemirror_mode": {
        "name": "ipython",
        "version": 3
      },
      "file_extension": ".py",
      "mimetype": "text/x-python",
      "name": "python",
      "nbconvert_exporter": "python",
      "pygments_lexer": "ipython3",
      "version": "3.6.6-final"
    }
  },
  "cells": [
    {
      "cell_type": "markdown",
      "metadata": {
        "id": "view-in-github",
        "colab_type": "text"
      },
      "source": [
        "<a href=\"https://colab.research.google.com/github/jumbokh/FSSH-class/blob/main/src/2020-03-01-TrainDonkeyCar.ipynb\" target=\"_parent\"><img src=\"https://colab.research.google.com/assets/colab-badge.svg\" alt=\"Open In Colab\"/></a>"
      ]
    },
    {
      "cell_type": "markdown",
      "metadata": {
        "id": "BlmQIFSLZDdc"
      },
      "source": [
        "# Train donkeycar with GPU support in Colab\n",
        "> Use Colab to train a neural network for a donkey car \n",
        "\n",
        "- toc: true\n",
        "- badges: true\n",
        "- categories: [donkeycar, Colab]\n",
        "- image: images/roboCar2020.jpg\n",
        "- author: Uwe Sterr\n",
        "- comments: true"
      ]
    },
    {
      "cell_type": "markdown",
      "metadata": {
        "id": "Fg2cbgwvj86i"
      },
      "source": [
        "# Credit\n",
        "> Note: This notebook is based on https://colab.research.google.com/github/robocarstore/donkey-car-training-on-google-colab/blob/master/Donkey_Car_Training_using_Google_Colab.ipynb"
      ]
    },
    {
      "cell_type": "markdown",
      "metadata": {
        "id": "ypOifoo14c4u"
      },
      "source": [
        "Get necessary libraries"
      ]
    },
    {
      "cell_type": "code",
      "metadata": {
        "id": "QlNn-cK93bj4"
      },
      "source": [
        "#collapse-hide\n",
        "%tensorflow_version 1.13.1\n",
        "import tensorflow\n",
        "from google.colab import drive\n",
        "from google.colab import files\n",
        "from IPython.display import Image\n",
        "import glob\n",
        "import shutil "
      ],
      "execution_count": null,
      "outputs": []
    },
    {
      "cell_type": "markdown",
      "metadata": {
        "id": "arsH-DhLcihq"
      },
      "source": [
        "# Step 1: Create environment\n",
        "To train a neural network for the donkeycar we need a few components\n",
        "- install donkeycar\n",
        "- upload data via  \n",
        "    - direct upload\n",
        "    - mount Google drive\n",
        "\n"
      ]
    },
    {
      "cell_type": "markdown",
      "metadata": {
        "id": "VBVjteqHtvg-"
      },
      "source": [
        "> Note: Donkeycar at the time of writing in March 2020 uses Tensorflow 1.13, therefore version 1.xx is installed"
      ]
    },
    {
      "cell_type": "code",
      "metadata": {
        "id": "uQgEhuoTcg0N"
      },
      "source": [
        "#collapse-show \n",
        "\n",
        "print(tensorflow.__version__)"
      ],
      "execution_count": null,
      "outputs": []
    },
    {
      "cell_type": "markdown",
      "metadata": {
        "id": "Ba2oPDIrsDFg"
      },
      "source": [
        "## Git Clone the donkeycar repository"
      ]
    },
    {
      "cell_type": "markdown",
      "metadata": {
        "id": "kGlk1n7OtvhE"
      },
      "source": [
        "Get the latest donkeycar version from GitHub \n",
        "> Note: The default branch is \"dev\", however, the documentation is for the master branch."
      ]
    },
    {
      "cell_type": "code",
      "metadata": {
        "id": "oOxd9PFUyNxI",
        "outputId": "cbe7e9cf-6715-4d0e-dc23-501a858ffaec",
        "colab": {
          "base_uri": "https://localhost:8080/",
          "height": 153
        }
      },
      "source": [
        "!git clone https://github.com/autorope/donkeycar.git \n",
        "%cd /content/donkeycar\n",
        "\n",
        "!git checkout master"
      ],
      "execution_count": null,
      "outputs": [
        {
          "output_type": "stream",
          "text": [
            "Cloning into 'donkeycar'...\n",
            "remote: Enumerating objects: 12972, done.\u001b[K\n",
            "remote: Total 12972 (delta 0), reused 0 (delta 0), pack-reused 12972\u001b[K\n",
            "Receiving objects: 100% (12972/12972), 67.74 MiB | 31.90 MiB/s, done.\n",
            "Resolving deltas: 100% (8193/8193), done.\n",
            "/content/donkeycar\n",
            "Branch 'master' set up to track remote branch 'master' from 'origin'.\n",
            "Switched to a new branch 'master'\n"
          ],
          "name": "stdout"
        }
      ]
    },
    {
      "cell_type": "markdown",
      "metadata": {
        "id": "9TkkcF-gsAnx"
      },
      "source": [
        "## Install donkey car\n",
        "Different to the description at http://docs.donkeycar.com/guide/host_pc/setup_ubuntu/ we create no anaconda environment since the script is supposed to run on Colab which will delete the instance anyway once you disconnect the notebook."
      ]
    },
    {
      "cell_type": "code",
      "metadata": {
        "id": "jz_PZgrByPDh",
        "outputId": "a0972097-ad1e-46ca-c28a-7e16c9ec2c62",
        "colab": {
          "base_uri": "https://localhost:8080/",
          "height": 612
        }
      },
      "source": [
        "!pip3 install -e .[pc]"
      ],
      "execution_count": null,
      "outputs": [
        {
          "output_type": "stream",
          "text": [
            "Obtaining file:///content/donkeycar\n",
            "Requirement already satisfied: numpy in /usr/local/lib/python3.6/dist-packages (from donkeycar==3.1.2) (1.18.4)\n",
            "Requirement already satisfied: pillow in /usr/local/lib/python3.6/dist-packages (from donkeycar==3.1.2) (7.0.0)\n",
            "Requirement already satisfied: docopt in /usr/local/lib/python3.6/dist-packages (from donkeycar==3.1.2) (0.6.2)\n",
            "Requirement already satisfied: tornado in /usr/local/lib/python3.6/dist-packages (from donkeycar==3.1.2) (4.5.3)\n",
            "Requirement already satisfied: requests in /usr/local/lib/python3.6/dist-packages (from donkeycar==3.1.2) (2.23.0)\n",
            "Requirement already satisfied: h5py in /usr/local/lib/python3.6/dist-packages (from donkeycar==3.1.2) (2.10.0)\n",
            "Requirement already satisfied: moviepy in /usr/local/lib/python3.6/dist-packages (from donkeycar==3.1.2) (0.2.3.5)\n",
            "Requirement already satisfied: pandas in /usr/local/lib/python3.6/dist-packages (from donkeycar==3.1.2) (1.0.3)\n",
            "Requirement already satisfied: PrettyTable in /usr/local/lib/python3.6/dist-packages (from donkeycar==3.1.2) (0.7.2)\n",
            "Collecting paho-mqtt\n",
            "\u001b[?25l  Downloading https://files.pythonhosted.org/packages/59/11/1dd5c70f0f27a88a3a05772cd95f6087ac479fac66d9c7752ee5e16ddbbc/paho-mqtt-1.5.0.tar.gz (99kB)\n",
            "\u001b[K     |████████████████████████████████| 102kB 3.4MB/s \n",
            "\u001b[?25hRequirement already satisfied: matplotlib in /usr/local/lib/python3.6/dist-packages (from donkeycar==3.1.2) (3.2.1)\n",
            "Requirement already satisfied: urllib3!=1.25.0,!=1.25.1,<1.26,>=1.21.1 in /usr/local/lib/python3.6/dist-packages (from requests->donkeycar==3.1.2) (1.24.3)\n",
            "Requirement already satisfied: chardet<4,>=3.0.2 in /usr/local/lib/python3.6/dist-packages (from requests->donkeycar==3.1.2) (3.0.4)\n",
            "Requirement already satisfied: certifi>=2017.4.17 in /usr/local/lib/python3.6/dist-packages (from requests->donkeycar==3.1.2) (2020.4.5.1)\n",
            "Requirement already satisfied: idna<3,>=2.5 in /usr/local/lib/python3.6/dist-packages (from requests->donkeycar==3.1.2) (2.9)\n",
            "Requirement already satisfied: six in /usr/local/lib/python3.6/dist-packages (from h5py->donkeycar==3.1.2) (1.12.0)\n",
            "Requirement already satisfied: imageio<3.0,>=2.1.2 in /usr/local/lib/python3.6/dist-packages (from moviepy->donkeycar==3.1.2) (2.4.1)\n",
            "Requirement already satisfied: tqdm<5.0,>=4.11.2 in /usr/local/lib/python3.6/dist-packages (from moviepy->donkeycar==3.1.2) (4.41.1)\n",
            "Requirement already satisfied: decorator<5.0,>=4.0.2 in /usr/local/lib/python3.6/dist-packages (from moviepy->donkeycar==3.1.2) (4.4.2)\n",
            "Requirement already satisfied: pytz>=2017.2 in /usr/local/lib/python3.6/dist-packages (from pandas->donkeycar==3.1.2) (2018.9)\n",
            "Requirement already satisfied: python-dateutil>=2.6.1 in /usr/local/lib/python3.6/dist-packages (from pandas->donkeycar==3.1.2) (2.8.1)\n",
            "Requirement already satisfied: kiwisolver>=1.0.1 in /usr/local/lib/python3.6/dist-packages (from matplotlib->donkeycar==3.1.2) (1.2.0)\n",
            "Requirement already satisfied: cycler>=0.10 in /usr/local/lib/python3.6/dist-packages (from matplotlib->donkeycar==3.1.2) (0.10.0)\n",
            "Requirement already satisfied: pyparsing!=2.0.4,!=2.1.2,!=2.1.6,>=2.0.1 in /usr/local/lib/python3.6/dist-packages (from matplotlib->donkeycar==3.1.2) (2.4.7)\n",
            "Building wheels for collected packages: paho-mqtt\n",
            "  Building wheel for paho-mqtt (setup.py) ... \u001b[?25l\u001b[?25hdone\n",
            "  Created wheel for paho-mqtt: filename=paho_mqtt-1.5.0-cp36-none-any.whl size=61416 sha256=361839e2e72f674579aacf767c1756b47c4de8dcf28e6e77ecc0f1d13b6a6727\n",
            "  Stored in directory: /root/.cache/pip/wheels/02/94/6c/8474137cb7a5a3e001d70a22c8ff919caee69435376bccce79\n",
            "Successfully built paho-mqtt\n",
            "Installing collected packages: paho-mqtt, donkeycar\n",
            "  Running setup.py develop for donkeycar\n",
            "Successfully installed donkeycar paho-mqtt-1.5.0\n"
          ],
          "name": "stdout"
        }
      ]
    },
    {
      "cell_type": "markdown",
      "metadata": {
        "id": "syCctLq2r4Wk"
      },
      "source": [
        "## Create Project\n",
        "In this step the following actions take place\n",
        "- create necessary folders (models, data, logs)\n",
        "- copying necessary files into folders (manage.py, myconfig.py etc.)\n"
      ]
    },
    {
      "cell_type": "code",
      "metadata": {
        "id": "1xjJBSITyXy2",
        "outputId": "0fdea0a3-ecf6-4598-ac4b-4fa48572f426",
        "colab": {
          "base_uri": "https://localhost:8080/",
          "height": 221
        }
      },
      "source": [
        "!donkey createcar --path /content/mycar"
      ],
      "execution_count": null,
      "outputs": [
        {
          "output_type": "stream",
          "text": [
            "using donkey v3.1.2 ...\n",
            "Creating car folder: /content/mycar\n",
            "making dir  /content/mycar\n",
            "Creating data & model folders.\n",
            "making dir  /content/mycar/models\n",
            "making dir  /content/mycar/data\n",
            "making dir  /content/mycar/logs\n",
            "Copying car application template: complete\n",
            "Copying car config defaults. Adjust these before starting your car.\n",
            "Copying train script. Adjust these before starting your car.\n",
            "Copying my car config overrides\n",
            "Donkey setup complete.\n"
          ],
          "name": "stdout"
        }
      ]
    },
    {
      "cell_type": "markdown",
      "metadata": {
        "id": "SCf6uTHnO4Lh"
      },
      "source": [
        "# Step 2: Supply Data\n",
        "In order to train the neural network we need to supply trainings data which are recorded on the raspi during driving the donkeycar on the track\n",
        "\n"
      ]
    },
    {
      "cell_type": "markdown",
      "metadata": {
        "id": "dnUy1Z1zro77"
      },
      "source": [
        "## Step 2 opt A: Supply own data\n",
        "If you have own data proceed here, if you want to use data which were made available via GitHub please continue to (link only works in blog not in Colab) [section](#GitHubData) **Supply GitHub hosted data**\n",
        "\n"
      ]
    },
    {
      "cell_type": "markdown",
      "metadata": {
        "id": "q4B2qbCc4Iaq"
      },
      "source": [
        "### Zip data on raspi \n",
        "Copy the following code and run on raspi \n",
        "> Note: Copying of the data is much faster if the data is zipped to one file.\n",
        "\n",
        "```bash\n",
        "cd ~/mycar/data\n",
        "# either compress just one folder\n",
        "tar -czf tub_xx_yyyy_mm_dd.tar.gz tub_xx_yyyy_mm_dd\n",
        "# or all folders starting with \"tub\"\n",
        "tar -czf trainingsData2020_03-01.tar.gz tub*\n",
        "\n",
        "\n",
        "```\n",
        "\n",
        "This will create a tub_xx_yyyy_mm_dd.tar.gz file under ~/mycar/data\n",
        "\n",
        "### Copy the zipped tub to your local PC\n",
        "\n",
        "Run this on your local pc if you are using linux/mac\n",
        "```\n",
        "sftp pi@raspberry.local\n",
        "cd ~/mycar/data\n",
        "get tub_xx_yyyy_mm_dd.tar.gz\n",
        "```\n",
        "\n",
        "If you are on a windows, download sftp utility like [filezilla](https://filezilla-project.org/) or [putty](https://www.chiark.greenend.org.uk/~sgtatham/putty/latest.html)"
      ]
    },
    {
      "cell_type": "markdown",
      "metadata": {
        "id": "wlwZuLKA56nt"
      },
      "source": [
        "Define your tub name here"
      ]
    },
    {
      "cell_type": "code",
      "metadata": {
        "id": "0ShFSsaewLCT"
      },
      "source": [
        "tub_name=\"tubVaihingenIIICleaned200126\""
      ],
      "execution_count": null,
      "outputs": []
    },
    {
      "cell_type": "markdown",
      "metadata": {
        "id": "W47gmXA0O4Lo"
      },
      "source": [
        "### Upload the tub from Google Drive\n",
        "\n",
        "First upload the tub_x_yyyy_mm_dd.tar.gz to Google Drive. We will then mount Google Drive from colab and copy the data from Drive directly. \n",
        "> Note: To copy data from Google Drive to Colab is faster than uploading it from local machine.  \n",
        "\n",
        "When you run the cell below, you will need to click the link and generate an authorization code to for colab to access your drive."
      ]
    },
    {
      "cell_type": "code",
      "metadata": {
        "id": "Bgp_wtENw_4n",
        "outputId": "6278f56c-a65e-460b-becd-84596f5f1ead",
        "colab": {
          "base_uri": "https://localhost:8080/",
          "height": 122
        }
      },
      "source": [
        "drive.mount('/content/drive')"
      ],
      "execution_count": null,
      "outputs": [
        {
          "output_type": "stream",
          "text": [
            "Go to this URL in a browser: https://accounts.google.com/o/oauth2/auth?client_id=947318989803-6bn6qk8qdgf4n4g3pfee6491hc0brc4i.apps.googleusercontent.com&redirect_uri=urn%3aietf%3awg%3aoauth%3a2.0%3aoob&response_type=code&scope=email%20https%3a%2f%2fwww.googleapis.com%2fauth%2fdocs.test%20https%3a%2f%2fwww.googleapis.com%2fauth%2fdrive%20https%3a%2f%2fwww.googleapis.com%2fauth%2fdrive.photos.readonly%20https%3a%2f%2fwww.googleapis.com%2fauth%2fpeopleapi.readonly\n",
            "\n",
            "Enter your authorization code:\n",
            "··········\n",
            "Mounted at /content/drive\n"
          ],
          "name": "stdout"
        }
      ]
    },
    {
      "cell_type": "markdown",
      "metadata": {
        "id": "IfSDpXj9x16v"
      },
      "source": [
        "Suppose you upload the tub_xx_yyyy_mm_dd.tar.gz to Google Drive/mycar/tub_xx_yyyy_mm_dd.tar.gz, this is how you copy it from Google Drive to colab"
      ]
    },
    {
      "cell_type": "code",
      "metadata": {
        "id": "BIzWTrV-xwkJ",
        "outputId": "973f7aa3-c7a7-42b7-b4b0-ee5fdd6bf669",
        "colab": {
          "base_uri": "https://localhost:8080/",
          "height": 51
        }
      },
      "source": [
        "%cd /content/mycar\n",
        "!rm -rf data\n",
        "!mkdir data\n",
        "%cd /content/mycar/data\n",
        "!cp /content/drive/My\\ Drive/myCar/{tub_name}.tar.gz ."
      ],
      "execution_count": null,
      "outputs": [
        {
          "output_type": "stream",
          "text": [
            "/content/mycar\n",
            "/content/mycar/data\n"
          ],
          "name": "stdout"
        }
      ]
    },
    {
      "cell_type": "markdown",
      "metadata": {
        "id": "QtwcEli6yFrw"
      },
      "source": [
        "And untar it to the right place"
      ]
    },
    {
      "cell_type": "code",
      "metadata": {
        "id": "urhFWBkUyGf0",
        "outputId": "552a7270-2f73-42a8-ed75-527aaaab985c",
        "colab": {
          "base_uri": "https://localhost:8080/",
          "height": 34
        }
      },
      "source": [
        "%cd /content/mycar/data\n",
        "!tar -xzf {tub_name}.tar.gz"
      ],
      "execution_count": null,
      "outputs": [
        {
          "output_type": "stream",
          "text": [
            "/content/mycar/data\n"
          ],
          "name": "stdout"
        }
      ]
    },
    {
      "cell_type": "markdown",
      "metadata": {
        "id": "4CchMtMI6gfd"
      },
      "source": [
        "Lets look at one image to see we got valid data"
      ]
    },
    {
      "cell_type": "code",
      "metadata": {
        "id": "KsItvBTkzWcH",
        "outputId": "fca0d21a-4b31-430f-8d5f-5460840955a6",
        "colab": {
          "base_uri": "https://localhost:8080/",
          "height": 154
        }
      },
      "source": [
        "%cd /content/mycar/data/tubVaihingenIIICleaned200126/\n",
        "file = glob.glob(\"*.jpg\")\n",
        "Image(file[100])"
      ],
      "execution_count": null,
      "outputs": [
        {
          "output_type": "stream",
          "text": [
            "/content/mycar/data/tubVaihingenIIICleaned200126\n"
          ],
          "name": "stdout"
        },
        {
          "output_type": "execute_result",
          "data": {
            "image/jpeg": "[encoded data removed]",
            "text/plain": [
              "<IPython.core.display.Image object>"
            ]
          },
          "metadata": {
            "tags": []
          },
          "execution_count": 9
        }
      ]
    },
    {
      "cell_type": "markdown",
      "metadata": {
        "id": "AXfVTJT6w7b2"
      },
      "source": [
        "### Check quality of data\n",
        "You want data which has left and right turns preferably in equal shares. A histogram is a good tool to check if this is the case. You can use a donkeycar tool for that\n",
        "\n",
        "\n",
        "```\n",
        "donkey tubhist <tub_path> --rec=<\"user/angle\">\n",
        "```\n",
        "The histogram shows that mainly the car drove straight ahead and more left turns than right turns. It is good practice to drive a course clock wise and anti clock wise to avoid this imbalance.\n"
      ]
    },
    {
      "cell_type": "code",
      "metadata": {
        "id": "OPPFtaxwx8gk",
        "outputId": "b37332c4-a40a-41fe-9e27-d81f86f98bce",
        "colab": {
          "base_uri": "https://localhost:8080/",
          "height": 599
        }
      },
      "source": [
        "%cd /content/mycar\n",
        "!donkey tubhist --tub data/{tub_name} --rec=\"user/angle\"\n",
        "file = glob.glob(\"tubVaihingenIIICleaned200126_hist_user_angle.png\")\n",
        "Image(file[0])"
      ],
      "execution_count": null,
      "outputs": [
        {
          "output_type": "stream",
          "text": [
            "/content/mycar\n",
            "using donkey v3.1.2 ...\n",
            "TubGroup:tubpaths: ['/content/mycar/data/tubVaihingenIIICleaned200126']\n",
            "joining the tubs 14234 records together. This could take 0 minutes.\n",
            "saving image to: tubVaihingenIIICleaned200126_hist_user_angle.png\n",
            "<Figure size 640x480 with 1 Axes>\n"
          ],
          "name": "stdout"
        },
        {
          "output_type": "execute_result",
          "data": {
            "image/png": "[encoded data removed]",
            "text/plain": [
              "<IPython.core.display.Image object>"
            ]
          },
          "metadata": {
            "tags": []
          },
          "execution_count": 10
        }
      ]
    },
    {
      "cell_type": "markdown",
      "metadata": {
        "id": "i4hNVVvFByr4"
      },
      "source": [
        "Next step is to train your model in section [Upload local files](#uplaod_local_files) (Link only works in blog not in Colab)"
      ]
    },
    {
      "cell_type": "markdown",
      "metadata": {
        "id": "3Acwhbrv9ZfQ"
      },
      "source": [
        "## Supply GitHub hosted data\n",
        "<a id='GitHubData'></a>\n",
        "If you don't have own training data you might want to use an example data set\n",
        "\n",
        "> Note: The training data is cleaned ([tubclean](https://docs.donkeycar.com/utility/donkey/#clean-data-in-tub)) but whether or not you get a good working model out of it...  \n",
        "\n",
        "See instructions below how to get the data into the Colab environment\n",
        "\n",
        "\n",
        "\n",
        "The training data are **hosted on GitHub**\n",
        "- clone GitHub repo\n",
        "- move file to data folder\n",
        "- unzip file"
      ]
    },
    {
      "cell_type": "markdown",
      "metadata": {
        "id": "JhS9u7_B7ZHP"
      },
      "source": [
        "## Step 2 opt B: Use data from RoboCarEsslingen\n",
        "The first data set we use is from [RoboCar Esslingen GitHub\n",
        "](https://github.com/RoboCarEsslingen) which is operated by the meetup group [Esslinger Makerspace Projekt: Autonomen RoboCar bauen](https://www.meetup.com/Esslingen-Makerspace/) located in Esslingen, Germany.  \n",
        "The data was recorded at [#8.7 Quarterly Hack: DIYrobocars Build & Race](https://www.meetup.com/Connected-Autonomous-Driving/events/259840582/) in Suttgart with kind support of Bosch.  \n",
        "If you want to use data from **Connected Atonomous Mobility** proceed in chapter (link only works in blog not in Colab) [section](#CamData) **Use data from Connected Autonomous Mobility**"
      ]
    },
    {
      "cell_type": "code",
      "metadata": {
        "id": "r29a5dD19y61"
      },
      "source": [
        "%cd /content/mycar\n",
        "!rm -rf data\n",
        "!mkdir data\n",
        "%cd /content/mycar/data\n",
        "!pwd\n",
        "! git clone --recursive https://github.com/RoboCarEsslingen/trainingData.git\n"
      ],
      "execution_count": null,
      "outputs": []
    },
    {
      "cell_type": "markdown",
      "metadata": {
        "id": "PPOnDZUJLp9f"
      },
      "source": [
        "Move zip file to data folder and unzip\n"
      ]
    },
    {
      "cell_type": "code",
      "metadata": {
        "id": "UzP0MiBrK0wv"
      },
      "source": [
        "shutil.move(\"/content/mycar/data/trainingData/tubVaihingenIIICleaned200126.tar.gz\", \"/content/mycar/data\") "
      ],
      "execution_count": null,
      "outputs": []
    },
    {
      "cell_type": "markdown",
      "metadata": {
        "id": "v489n2oANHIw"
      },
      "source": [
        "Unzip the training data file\n"
      ]
    },
    {
      "cell_type": "code",
      "metadata": {
        "id": "r7clEZSZNGUd"
      },
      "source": [
        "%cd /content/mycar/data\n",
        "!tar -xzf tubVaihingenIIICleaned200126.tar.gz"
      ],
      "execution_count": null,
      "outputs": []
    },
    {
      "cell_type": "markdown",
      "metadata": {
        "id": "m8hntbOb8PZH"
      },
      "source": [
        "#### Check quality of data\n",
        "You want data which has left and right turns preferably in equal shares. A histogram is a good tool to check if this is the case. You can use a donkeycar tool for that\n",
        "\n",
        "\n",
        "```\n",
        "donkey tubhist <tub_path> --rec=<\"user/angle\">\n",
        "```\n",
        "The histogram shows that mainly the car drove straight ahead and more left turns than right turns. It is good practice to drive a course clock wise and anti clock wise to avoid this imbalance.\n"
      ]
    },
    {
      "cell_type": "code",
      "metadata": {
        "id": "cnGVCR5_8PZI"
      },
      "source": [
        "%cd /content/mycar\n",
        "!donkey tubhist --tub data/{tub_name} --rec=\"user/angle\"\n",
        "file = glob.glob(\"tubVaihingenIIICleaned200126_hist_user_angle.png\")\n",
        "Image(file[0])"
      ],
      "execution_count": null,
      "outputs": []
    },
    {
      "cell_type": "markdown",
      "metadata": {
        "id": "9f9n1KNr8l_y"
      },
      "source": [
        "## Use data from Connected Autonomous Mobility\n",
        "<a id='CamData'></a>\n",
        "Another data set is from  [Connected Autonomous Mobility\n",
        "](https://github.com/connected-autonomous-mobility/20-data)\n",
        "We clone the whole repo because I don't know how to download a single file from a GitHub repo, **if you know how to this than please leave a note the comment section.**"
      ]
    },
    {
      "cell_type": "code",
      "metadata": {
        "id": "huBYp8Tu8l_0"
      },
      "source": [
        "%cd /content/mycar\n",
        "!rm -rf data\n",
        "!mkdir data\n",
        "%cd /content/mycar/data\n",
        "!pwd\n",
        "! git clone --recursive https://github.com/connected-autonomous-mobility/20-data\n"
      ],
      "execution_count": null,
      "outputs": []
    },
    {
      "cell_type": "markdown",
      "metadata": {
        "id": "4mVN5ljz8l_3"
      },
      "source": [
        "Move zip file to data folder and unzip\n"
      ]
    },
    {
      "cell_type": "code",
      "metadata": {
        "id": "FxDbItFT8l_3"
      },
      "source": [
        "import shutil \n",
        "shutil.move(\"/content/mycar/data/20-data/20190414-BOSCH-Solaris-Course/tub_36_19-04-13.zip\", \"/content/mycar/data\") \n",
        "\n"
      ],
      "execution_count": null,
      "outputs": []
    },
    {
      "cell_type": "markdown",
      "metadata": {
        "id": "rJo3_Pk68l_5"
      },
      "source": [
        "Unzip the training data file\n"
      ]
    },
    {
      "cell_type": "code",
      "metadata": {
        "id": "d7QyaWuZ8l_6"
      },
      "source": [
        "%cd /content/mycar/data\n",
        "!unzip tub_36_19-04-13.zip"
      ],
      "execution_count": null,
      "outputs": []
    },
    {
      "cell_type": "markdown",
      "metadata": {
        "id": "TaRgu0Mb5J-G"
      },
      "source": [
        "Lets look at one image to get an impression what the car saw.\n",
        "\n",
        "```\n",
        "# This is formatted as code\n",
        "```\n",
        "\n"
      ]
    },
    {
      "cell_type": "code",
      "metadata": {
        "id": "Jg-t_CPP5JJC"
      },
      "source": [
        "%cd /content/mycar/data/tub_36_19-04-13/\n",
        "file = glob.glob(\"*.jpg\")\n",
        "Image(file[300])"
      ],
      "execution_count": null,
      "outputs": []
    },
    {
      "cell_type": "markdown",
      "metadata": {
        "id": "hWgKMCa88l_8"
      },
      "source": [
        "#### Check quality of data\n",
        "You want data which has left and right turns preferably in equal shares. A histogram is a good tool to check if this is the case. You can use a donkeycar tool for that\n",
        "\n",
        "\n",
        "```\n",
        "donkey tubhist <tub_path> --rec=<\"user/angle\">\n",
        "```\n",
        "The histogram shows that mainly the car drove straight ahead, left and right turns are pretty well balanced\n"
      ]
    },
    {
      "cell_type": "code",
      "metadata": {
        "id": "t0rx23db8l_8"
      },
      "source": [
        "tub_name=\"tub_36_19-04-13\"\n",
        "%cd /content/mycar\n",
        "!donkey tubhist --tub data/{tub_name} --rec=\"user/angle\"\n",
        "file = glob.glob(\"tub_36_19-04-13_hist_user_angle.png\")\n",
        "Image(file[0])"
      ],
      "execution_count": null,
      "outputs": []
    },
    {
      "cell_type": "markdown",
      "metadata": {
        "id": "lIdS-AyIxn6e"
      },
      "source": [
        "# Step 3: Upload myconfig.py\n",
        "<a id='uplaod_local_files'></a>\n",
        "You can upload files from local machine as well, but probably is slower than above approach downloading files from Google Drive"
      ]
    },
    {
      "cell_type": "code",
      "metadata": {
        "id": "gsHJGimwxv4F"
      },
      "source": [
        "# uploaded = files.upload()"
      ],
      "execution_count": null,
      "outputs": []
    },
    {
      "cell_type": "markdown",
      "metadata": {
        "id": "j4ABM1_VSgOF"
      },
      "source": [
        "\n",
        "\n",
        "#### Get myconfig.py\n",
        "The file `myconfig.py` has to be the identical during training and driving, therefore it makes sense to upload the `myconfig.py` which you are using on the car.\n",
        "\n",
        "> Note: In `myconfig.py` there are parameters which control the training such as: \n",
        " \n",
        "\n",
        "```\n",
        "\n",
        " line parameter --type to the python manage.py train and drive commands.\n",
        "\n",
        " DEFAULT_MODEL_TYPE = 'linear'   (linear|categorical|rnn|imu|behavior|3d|localizer|latent)\n",
        "\n",
        " BATCH_SIZE = 128                how many records to use when doing one pass of gradient decent. Use a smaller number if your gpu is running out of memory.\n",
        "\n",
        " TRAIN_TEST_SPLIT = 0.8          what percent of records to use for training. the remaining used for validation.\n",
        "\n",
        " MAX_EPOCHS = 100                how many times to visit all records of your data\n",
        "\n",
        " SHOW_PLOT = True                would you like to see a pop up display of final loss?\n",
        "\n",
        " VEBOSE_TRAIN = True             would you like to see a progress bar with text during training?\n",
        "\n",
        " USE_EARLY_STOP = True           would you like to stop the training if we see it's not improving fit?\n",
        "\n",
        " EARLY_STOP_PATIENCE = 5         how many epochs to wait before no improvement\n",
        "\n",
        " MIN_DELTA = .0005               early stop will want this much loss change before calling it improved.\n",
        "\n",
        " PRINT_MODEL_SUMMARY = True      print layers and weights to stdout\n",
        "\n",
        " OPTIMIZER = None                adam, sgd, rmsprop, etc.. None accepts default\n",
        "\n",
        " LEARNING_RATE = 0.001           only used when OPTIMIZER specified\n",
        "\n",
        " LEARNING_RATE_DECAY = 0.0       only used when OPTIMIZER specified\n",
        "\n",
        " SEND_BEST_MODEL_TO_PI = False   change to true to automatically send best model during training\n",
        "\n",
        " CACHE_IMAGES = True             keep images in memory. will speed successive epochs, but crater if not enough mem.\n",
        "\n",
        " \n",
        "\n",
        " PRUNE_CNN = False               This will remove weights from your model. The primary goal is to increase performance.\n",
        "\n",
        " PRUNE_PERCENT_TARGET = 75        The desired percentage of pruning.\n",
        "\n",
        " PRUNE_PERCENT_PER_ITERATION = 20  Percentage of pruning that is perform per iteration.\n",
        "\n",
        " PRUNE_VAL_LOSS_DEGRADATION_LIMIT = 0.2  The max amount of validation loss that is permitted during pruning.\n",
        "\n",
        " PRUNE_EVAL_PERCENT_OF_DATASET = .05   percent of dataset used to perform evaluation of model.\n",
        "RNN or 3D  \n",
        "SEQUENCE_LENGTH = 3             #some models use a number of images over time. This controls how many.  \n",
        "\n",
        "# # Region of interest cropping\n",
        "# # only supported in Categorical and Linear models.\n",
        "ROI_CROP_TOP = 0                    #the number of rows of pixels to ignore on the top of the image  \n",
        " ROI_CROP_BOTTOM = 0            #the number of rows of pixels to ignore on the bottom of the image \n",
        "```\n",
        "\n",
        "\n",
        " \n",
        "\n"
      ]
    },
    {
      "cell_type": "code",
      "metadata": {
        "id": "qO5y5QlHSdWB",
        "outputId": "726d4818-ac02-48b3-98b1-904080801776",
        "colab": {
          "base_uri": "https://localhost:8080/",
          "height": 34
        }
      },
      "source": [
        "%cd /content/mycar\n",
        "!cp /content/drive/My\\ Drive/myCar/myconfig.py ."
      ],
      "execution_count": null,
      "outputs": [
        {
          "output_type": "stream",
          "text": [
            "/content/mycar\n"
          ],
          "name": "stdout"
        }
      ]
    },
    {
      "cell_type": "markdown",
      "metadata": {
        "id": "A1Y_btMs6FyH"
      },
      "source": [
        "# Step 4: Train your model\n",
        "<a id='train_model'></a>\n",
        "There are several types of modes available:\n",
        "\n",
        " - linear\n",
        " - categorical\n",
        " - rnn\n",
        " - imu\n",
        " - behavior\n",
        " - 3d\n",
        " - localizer  \n",
        " And you can use pre-trained models by adding a flag\n",
        "- `[--transfer=<model>]`"
      ]
    },
    {
      "cell_type": "markdown",
      "metadata": {
        "id": "ESiFEnkQ6WXp"
      },
      "source": [
        "## Step 4 opt A: Transfer learning using pre-trained model\n",
        "> Note: You can use a pre-trained model and use transfer learning"
      ]
    },
    {
      "cell_type": "markdown",
      "metadata": {
        "id": "nRQ2eq6H84vl"
      },
      "source": [
        "Do not forget to set the variables in myconfig.py  \n",
        "\n",
        "\n",
        "```\n",
        "FREEZE_LAYERS = True  \n",
        "`#default False will allow all layers to be modified by training\n",
        "\n",
        "NUM_LAST_LAYERS_TO_TRAIN = 7  \n",
        "`#when freezing layers, how many layers from the last should be allowed to train?\n",
        "```\n",
        "\n",
        "\n",
        "\n"
      ]
    },
    {
      "cell_type": "markdown",
      "metadata": {
        "id": "yCs1rze4WgPo"
      },
      "source": [
        "#### Upload pre-trained model\n",
        "Upload model in case you want to use a pre-trained model for transfer learning.\n",
        "To define which layers shall be trained and which shall be frozen set the parameters in `myconfig.py``\n",
        "\n",
        "Model transfer options\n",
        "\n",
        "When copying weights during a model transfer operation, should we freeze a certain number of layers to the incoming weights and not allow them to change during training?\n",
        "\n",
        "```\n",
        "FREEZE_LAYERS = False               #default False will allow all layers to be modified by training\n",
        "NUM_LAST_LAYERS_TO_TRAIN = 7        #when freezing layers, how many layers from the last should be allowed to train?\n",
        "\n",
        " ```\n",
        "\n"
      ]
    },
    {
      "cell_type": "code",
      "metadata": {
        "outputId": "6f6a235b-8744-4cf1-f680-62a76722a73d",
        "id": "7s5wQxd_WgPq",
        "colab": {
          "base_uri": "https://localhost:8080/",
          "height": 34
        }
      },
      "source": [
        "%cd /content/mycar/models\n",
        "!cp /content/drive/My\\ Drive/myCar/base_linear.h5 ."
      ],
      "execution_count": null,
      "outputs": [
        {
          "output_type": "stream",
          "text": [
            "/content/mycar/models\n"
          ],
          "name": "stdout"
        }
      ]
    },
    {
      "cell_type": "markdown",
      "metadata": {
        "id": "sTCpODL8ZP6y"
      },
      "source": [
        "Plot the model structure"
      ]
    },
    {
      "cell_type": "code",
      "metadata": {
        "id": "4yZqtHsiZOKN",
        "outputId": "922904f9-c908-4f3a-cb5f-45ea249c914f",
        "colab": {
          "base_uri": "https://localhost:8080/",
          "height": 1000
        }
      },
      "source": [
        "from tensorflow.keras.utils import plot_model\n",
        "from tensorflow.keras.models import load_model\n",
        "%cd /content/mycar/models\n",
        "model = load_model('base_linear.h5')\n",
        "plot_model(\n",
        "    model,\n",
        "    to_file=\"model.png\",\n",
        "    show_shapes=False,\n",
        "    show_layer_names=True,\n",
        "    rankdir=\"TB\",\n",
        "    expand_nested=False,\n",
        "    dpi=96,\n",
        ")"
      ],
      "execution_count": null,
      "outputs": [
        {
          "output_type": "stream",
          "text": [
            "/content/mycar/models\n",
            "WARNING:tensorflow:From /tensorflow-1.15.2/python3.6/tensorflow_core/python/ops/init_ops.py:97: calling Zeros.__init__ (from tensorflow.python.ops.init_ops) with dtype is deprecated and will be removed in a future version.\n",
            "Instructions for updating:\n",
            "Call initializer instance with the dtype argument instead of passing it to the constructor\n",
            "WARNING:tensorflow:From /tensorflow-1.15.2/python3.6/tensorflow_core/python/ops/init_ops.py:97: calling Ones.__init__ (from tensorflow.python.ops.init_ops) with dtype is deprecated and will be removed in a future version.\n",
            "Instructions for updating:\n",
            "Call initializer instance with the dtype argument instead of passing it to the constructor\n",
            "WARNING:tensorflow:From /tensorflow-1.15.2/python3.6/tensorflow_core/python/ops/init_ops.py:97: calling GlorotUniform.__init__ (from tensorflow.python.ops.init_ops) with dtype is deprecated and will be removed in a future version.\n",
            "Instructions for updating:\n",
            "Call initializer instance with the dtype argument instead of passing it to the constructor\n",
            "WARNING:tensorflow:From /tensorflow-1.15.2/python3.6/tensorflow_core/python/ops/resource_variable_ops.py:1630: calling BaseResourceVariable.__init__ (from tensorflow.python.ops.resource_variable_ops) with constraint is deprecated and will be removed in a future version.\n",
            "Instructions for updating:\n",
            "If using Keras pass *_constraint arguments to layers.\n"
          ],
          "name": "stdout"
        },
        {
          "output_type": "execute_result",
          "data": {
            "image/png": "[encoded data removed]",
            "text/plain": [
              "<IPython.core.display.Image object>"
            ]
          },
          "metadata": {
            "tags": []
          },
          "execution_count": 13
        }
      ]
    },
    {
      "cell_type": "markdown",
      "metadata": {
        "id": "oyUWgx4wW7Hw"
      },
      "source": [
        "##### Start transfer learning of pre-trained model\n",
        "Use the `manage.py` script to start training"
      ]
    },
    {
      "cell_type": "code",
      "metadata": {
        "id": "0YHhDGJYvZ5u",
        "outputId": "f143891c-63fc-4af7-dfd9-7be13c04a4c6",
        "colab": {
          "base_uri": "https://localhost:8080/",
          "height": 1000
        }
      },
      "source": [
        "!python /content/mycar/manage.py train  --type=linear --transfer=/content/mycar/models/base_linear.h5  --model=/content/mycar/models/mypilot.h5\n"
      ],
      "execution_count": null,
      "outputs": [
        {
          "output_type": "stream",
          "text": [
            "using donkey v3.1.2 ...\n",
            "loading config file: /content/mycar/config.py\n",
            "myconfig myconfig.py\n",
            "loading personal config over-rides from myconfig.py\n",
            "\n",
            "config loaded\n",
            "\"get_model_by_type\" model Type is: linear\n",
            "WARNING:tensorflow:From /tensorflow-1.15.2/python3.6/tensorflow_core/python/ops/resource_variable_ops.py:1630: calling BaseResourceVariable.__init__ (from tensorflow.python.ops.resource_variable_ops) with constraint is deprecated and will be removed in a future version.\n",
            "Instructions for updating:\n",
            "If using Keras pass *_constraint arguments to layers.\n",
            "training with model type <class 'donkeycar.parts.keras.KerasLinear'>\n",
            "loading weights from model /content/mycar/models/base_linear.h5\n",
            "WARNING:tensorflow:From /tensorflow-1.15.2/python3.6/tensorflow_core/python/ops/init_ops.py:97: calling Zeros.__init__ (from tensorflow.python.ops.init_ops) with dtype is deprecated and will be removed in a future version.\n",
            "Instructions for updating:\n",
            "Call initializer instance with the dtype argument instead of passing it to the constructor\n",
            "WARNING:tensorflow:From /tensorflow-1.15.2/python3.6/tensorflow_core/python/ops/init_ops.py:97: calling Ones.__init__ (from tensorflow.python.ops.init_ops) with dtype is deprecated and will be removed in a future version.\n",
            "Instructions for updating:\n",
            "Call initializer instance with the dtype argument instead of passing it to the constructor\n",
            "WARNING:tensorflow:From /tensorflow-1.15.2/python3.6/tensorflow_core/python/ops/init_ops.py:97: calling GlorotUniform.__init__ (from tensorflow.python.ops.init_ops) with dtype is deprecated and will be removed in a future version.\n",
            "Instructions for updating:\n",
            "Call initializer instance with the dtype argument instead of passing it to the constructor\n",
            "2020-05-28 15:11:01.559596: I tensorflow/stream_executor/platform/default/dso_loader.cc:44] Successfully opened dynamic library libcuda.so.1\n",
            "2020-05-28 15:11:01.562497: I tensorflow/stream_executor/cuda/cuda_gpu_executor.cc:983] successful NUMA node read from SysFS had negative value (-1), but there must be at least one NUMA node, so returning NUMA node zero\n",
            "2020-05-28 15:11:01.563191: I tensorflow/core/common_runtime/gpu/gpu_device.cc:1639] Found device 0 with properties: \n",
            "name: Tesla P100-PCIE-16GB major: 6 minor: 0 memoryClockRate(GHz): 1.3285\n",
            "pciBusID: 0000:00:04.0\n",
            "2020-05-28 15:11:01.563474: I tensorflow/stream_executor/platform/default/dso_loader.cc:44] Successfully opened dynamic library libcudart.so.10.1\n",
            "2020-05-28 15:11:01.565174: I tensorflow/stream_executor/platform/default/dso_loader.cc:44] Successfully opened dynamic library libcublas.so.10\n",
            "2020-05-28 15:11:01.566931: I tensorflow/stream_executor/platform/default/dso_loader.cc:44] Successfully opened dynamic library libcufft.so.10\n",
            "2020-05-28 15:11:01.567244: I tensorflow/stream_executor/platform/default/dso_loader.cc:44] Successfully opened dynamic library libcurand.so.10\n",
            "2020-05-28 15:11:01.568968: I tensorflow/stream_executor/platform/default/dso_loader.cc:44] Successfully opened dynamic library libcusolver.so.10\n",
            "2020-05-28 15:11:01.570096: I tensorflow/stream_executor/platform/default/dso_loader.cc:44] Successfully opened dynamic library libcusparse.so.10\n",
            "2020-05-28 15:11:01.574256: I tensorflow/stream_executor/platform/default/dso_loader.cc:44] Successfully opened dynamic library libcudnn.so.7\n",
            "2020-05-28 15:11:01.574380: I tensorflow/stream_executor/cuda/cuda_gpu_executor.cc:983] successful NUMA node read from SysFS had negative value (-1), but there must be at least one NUMA node, so returning NUMA node zero\n",
            "2020-05-28 15:11:01.575112: I tensorflow/stream_executor/cuda/cuda_gpu_executor.cc:983] successful NUMA node read from SysFS had negative value (-1), but there must be at least one NUMA node, so returning NUMA node zero\n",
            "2020-05-28 15:11:01.575708: I tensorflow/core/common_runtime/gpu/gpu_device.cc:1767] Adding visible gpu devices: 0\n",
            "2020-05-28 15:11:01.581927: I tensorflow/core/platform/profile_utils/cpu_utils.cc:94] CPU Frequency: 2200000000 Hz\n",
            "2020-05-28 15:11:01.582168: I tensorflow/compiler/xla/service/service.cc:168] XLA service 0x67cee00 initialized for platform Host (this does not guarantee that XLA will be used). Devices:\n",
            "2020-05-28 15:11:01.582199: I tensorflow/compiler/xla/service/service.cc:176]   StreamExecutor device (0): Host, Default Version\n",
            "2020-05-28 15:11:01.673210: I tensorflow/stream_executor/cuda/cuda_gpu_executor.cc:983] successful NUMA node read from SysFS had negative value (-1), but there must be at least one NUMA node, so returning NUMA node zero\n",
            "2020-05-28 15:11:01.673930: I tensorflow/compiler/xla/service/service.cc:168] XLA service 0x67cefc0 initialized for platform CUDA (this does not guarantee that XLA will be used). Devices:\n",
            "2020-05-28 15:11:01.673963: I tensorflow/compiler/xla/service/service.cc:176]   StreamExecutor device (0): Tesla P100-PCIE-16GB, Compute Capability 6.0\n",
            "2020-05-28 15:11:01.674127: I tensorflow/stream_executor/cuda/cuda_gpu_executor.cc:983] successful NUMA node read from SysFS had negative value (-1), but there must be at least one NUMA node, so returning NUMA node zero\n",
            "2020-05-28 15:11:01.674884: I tensorflow/core/common_runtime/gpu/gpu_device.cc:1639] Found device 0 with properties: \n",
            "name: Tesla P100-PCIE-16GB major: 6 minor: 0 memoryClockRate(GHz): 1.3285\n",
            "pciBusID: 0000:00:04.0\n",
            "2020-05-28 15:11:01.674977: I tensorflow/stream_executor/platform/default/dso_loader.cc:44] Successfully opened dynamic library libcudart.so.10.1\n",
            "2020-05-28 15:11:01.675006: I tensorflow/stream_executor/platform/default/dso_loader.cc:44] Successfully opened dynamic library libcublas.so.10\n",
            "2020-05-28 15:11:01.675028: I tensorflow/stream_executor/platform/default/dso_loader.cc:44] Successfully opened dynamic library libcufft.so.10\n",
            "2020-05-28 15:11:01.675051: I tensorflow/stream_executor/platform/default/dso_loader.cc:44] Successfully opened dynamic library libcurand.so.10\n",
            "2020-05-28 15:11:01.675070: I tensorflow/stream_executor/platform/default/dso_loader.cc:44] Successfully opened dynamic library libcusolver.so.10\n",
            "2020-05-28 15:11:01.675089: I tensorflow/stream_executor/platform/default/dso_loader.cc:44] Successfully opened dynamic library libcusparse.so.10\n",
            "2020-05-28 15:11:01.675109: I tensorflow/stream_executor/platform/default/dso_loader.cc:44] Successfully opened dynamic library libcudnn.so.7\n",
            "2020-05-28 15:11:01.675183: I tensorflow/stream_executor/cuda/cuda_gpu_executor.cc:983] successful NUMA node read from SysFS had negative value (-1), but there must be at least one NUMA node, so returning NUMA node zero\n",
            "2020-05-28 15:11:01.675764: I tensorflow/stream_executor/cuda/cuda_gpu_executor.cc:983] successful NUMA node read from SysFS had negative value (-1), but there must be at least one NUMA node, so returning NUMA node zero\n",
            "2020-05-28 15:11:01.676337: I tensorflow/core/common_runtime/gpu/gpu_device.cc:1767] Adding visible gpu devices: 0\n",
            "2020-05-28 15:11:01.676400: I tensorflow/stream_executor/platform/default/dso_loader.cc:44] Successfully opened dynamic library libcudart.so.10.1\n",
            "2020-05-28 15:11:01.677577: I tensorflow/core/common_runtime/gpu/gpu_device.cc:1180] Device interconnect StreamExecutor with strength 1 edge matrix:\n",
            "2020-05-28 15:11:01.677605: I tensorflow/core/common_runtime/gpu/gpu_device.cc:1186]      0 \n",
            "2020-05-28 15:11:01.677616: I tensorflow/core/common_runtime/gpu/gpu_device.cc:1199] 0:   N \n",
            "2020-05-28 15:11:01.677718: I tensorflow/stream_executor/cuda/cuda_gpu_executor.cc:983] successful NUMA node read from SysFS had negative value (-1), but there must be at least one NUMA node, so returning NUMA node zero\n",
            "2020-05-28 15:11:01.678342: I tensorflow/stream_executor/cuda/cuda_gpu_executor.cc:983] successful NUMA node read from SysFS had negative value (-1), but there must be at least one NUMA node, so returning NUMA node zero\n",
            "2020-05-28 15:11:01.678954: W tensorflow/core/common_runtime/gpu/gpu_bfc_allocator.cc:39] Overriding allow_growth setting because the TF_FORCE_GPU_ALLOW_GROWTH environment variable is set. Original config value was 0.\n",
            "2020-05-28 15:11:01.678998: I tensorflow/core/common_runtime/gpu/gpu_device.cc:1325] Created TensorFlow device (/job:localhost/replica:0/task:0/device:GPU:0 with 14858 MB memory) -> physical GPU (device: 0, name: Tesla P100-PCIE-16GB, pci bus id: 0000:00:04.0, compute capability: 6.0)\n",
            "Model: \"model\"\n",
            "__________________________________________________________________________________________________\n",
            "Layer (type)                    Output Shape         Param #     Connected to                     \n",
            "==================================================================================================\n",
            "img_in (InputLayer)             [(None, 120, 160, 3) 0                                            \n",
            "__________________________________________________________________________________________________\n",
            "cropping2d (Cropping2D)         (None, 120, 160, 3)  0           img_in[0][0]                     \n",
            "__________________________________________________________________________________________________\n",
            "batch_normalization_v1 (BatchNo (None, 120, 160, 3)  12          cropping2d[0][0]                 \n",
            "__________________________________________________________________________________________________\n",
            "conv2d_1 (Conv2D)               (None, 58, 78, 24)   1824        batch_normalization_v1[0][0]     \n",
            "__________________________________________________________________________________________________\n",
            "dropout (Dropout)               (None, 58, 78, 24)   0           conv2d_1[0][0]                   \n",
            "__________________________________________________________________________________________________\n",
            "conv2d_2 (Conv2D)               (None, 27, 37, 32)   19232       dropout[0][0]                    \n",
            "__________________________________________________________________________________________________\n",
            "dropout_1 (Dropout)             (None, 27, 37, 32)   0           conv2d_2[0][0]                   \n",
            "__________________________________________________________________________________________________\n",
            "conv2d_3 (Conv2D)               (None, 12, 17, 64)   51264       dropout_1[0][0]                  \n",
            "__________________________________________________________________________________________________\n",
            "dropout_2 (Dropout)             (None, 12, 17, 64)   0           conv2d_3[0][0]                   \n",
            "__________________________________________________________________________________________________\n",
            "conv2d_4 (Conv2D)               (None, 10, 15, 64)   36928       dropout_2[0][0]                  \n",
            "__________________________________________________________________________________________________\n",
            "dropout_3 (Dropout)             (None, 10, 15, 64)   0           conv2d_4[0][0]                   \n",
            "__________________________________________________________________________________________________\n",
            "conv2d_5 (Conv2D)               (None, 8, 13, 64)    36928       dropout_3[0][0]                  \n",
            "__________________________________________________________________________________________________\n",
            "dropout_4 (Dropout)             (None, 8, 13, 64)    0           conv2d_5[0][0]                   \n",
            "__________________________________________________________________________________________________\n",
            "flattened (Flatten)             (None, 6656)         0           dropout_4[0][0]                  \n",
            "__________________________________________________________________________________________________\n",
            "dense (Dense)                   (None, 100)          665700      flattened[0][0]                  \n",
            "__________________________________________________________________________________________________\n",
            "dropout_5 (Dropout)             (None, 100)          0           dense[0][0]                      \n",
            "__________________________________________________________________________________________________\n",
            "dense_1 (Dense)                 (None, 50)           5050        dropout_5[0][0]                  \n",
            "__________________________________________________________________________________________________\n",
            "dropout_6 (Dropout)             (None, 50)           0           dense_1[0][0]                    \n",
            "__________________________________________________________________________________________________\n",
            "n_outputs0 (Dense)              (None, 1)            51          dropout_6[0][0]                  \n",
            "__________________________________________________________________________________________________\n",
            "n_outputs1 (Dense)              (None, 1)            51          dropout_6[0][0]                  \n",
            "==================================================================================================\n",
            "Total params: 817,040\n",
            "Trainable params: 817,034\n",
            "Non-trainable params: 6\n",
            "__________________________________________________________________________________________________\n",
            "None\n",
            "found 0 pickles writing json records and images in tub /content/mycar/data/tubVaihingenIIICleaned200126\n",
            "/content/mycar/data/tubVaihingenIIICleaned200126\n",
            "collating 14234 records ...\n",
            "train: 11387, val: 2847\n",
            "total records: 14234\n",
            "steps_per_epoch 177\n",
            "Epoch 1/100\n",
            "2020-05-28 15:11:04.890586: I tensorflow/stream_executor/platform/default/dso_loader.cc:44] Successfully opened dynamic library libcublas.so.10\n",
            "2020-05-28 15:11:06.394756: I tensorflow/stream_executor/platform/default/dso_loader.cc:44] Successfully opened dynamic library libcudnn.so.7\n",
            "176/177 [============================>.] - ETA: 0s - loss: 0.3672 - n_outputs0_loss: 0.2321 - n_outputs1_loss: 0.1352Epoch 1/100\n",
            " 44/177 [======>.......................] - ETA: 6s - loss: 0.6511 - n_outputs0_loss: 0.6171 - n_outputs1_loss: 0.0341\n",
            "Epoch 00001: val_loss improved from inf to 0.65115, saving model to /content/mycar/models/mypilot.h5\n",
            "177/177 [==============================] - 19s 106ms/step - loss: 0.3660 - n_outputs0_loss: 0.2315 - n_outputs1_loss: 0.1345 - val_loss: 0.6511 - val_n_outputs0_loss: 0.6171 - val_n_outputs1_loss: 0.0341\n",
            "Epoch 2/100\n",
            "175/177 [============================>.] - ETA: 0s - loss: 0.1948 - n_outputs0_loss: 0.1780 - n_outputs1_loss: 0.0169Epoch 1/100\n",
            " 40/177 [=====>........................] - ETA: 1s - loss: 0.6370 - n_outputs0_loss: 0.6252 - n_outputs1_loss: 0.0119\n",
            "Epoch 00002: val_loss improved from 0.65115 to 0.63501, saving model to /content/mycar/models/mypilot.h5\n",
            "177/177 [==============================] - 5s 27ms/step - loss: 0.1954 - n_outputs0_loss: 0.1785 - n_outputs1_loss: 0.0168 - val_loss: 0.6350 - val_n_outputs0_loss: 0.6229 - val_n_outputs1_loss: 0.0122\n",
            "Epoch 3/100\n",
            "175/177 [============================>.] - ETA: 0s - loss: 0.1780 - n_outputs0_loss: 0.1649 - n_outputs1_loss: 0.0131Epoch 1/100\n",
            " 42/177 [======>.......................] - ETA: 1s - loss: 0.6386 - n_outputs0_loss: 0.6316 - n_outputs1_loss: 0.0070\n",
            "Epoch 00003: val_loss did not improve from 0.63501\n",
            "177/177 [==============================] - 4s 25ms/step - loss: 0.1778 - n_outputs0_loss: 0.1647 - n_outputs1_loss: 0.0131 - val_loss: 0.6390 - val_n_outputs0_loss: 0.6322 - val_n_outputs1_loss: 0.0068\n",
            "Epoch 4/100\n",
            "174/177 [============================>.] - ETA: 0s - loss: 0.1637 - n_outputs0_loss: 0.1516 - n_outputs1_loss: 0.0120Epoch 1/100\n",
            " 44/177 [======>.......................] - ETA: 1s - loss: 0.6309 - n_outputs0_loss: 0.6175 - n_outputs1_loss: 0.0133\n",
            "Epoch 00004: val_loss improved from 0.63501 to 0.63087, saving model to /content/mycar/models/mypilot.h5\n",
            "177/177 [==============================] - 5s 26ms/step - loss: 0.1635 - n_outputs0_loss: 0.1515 - n_outputs1_loss: 0.0120 - val_loss: 0.6309 - val_n_outputs0_loss: 0.6175 - val_n_outputs1_loss: 0.0133\n",
            "Epoch 5/100\n",
            "175/177 [============================>.] - ETA: 0s - loss: 0.1544 - n_outputs0_loss: 0.1429 - n_outputs1_loss: 0.0115Epoch 1/100\n",
            " 42/177 [======>.......................] - ETA: 1s - loss: 0.3351 - n_outputs0_loss: 0.3270 - n_outputs1_loss: 0.0081\n",
            "Epoch 00005: val_loss improved from 0.63087 to 0.34012, saving model to /content/mycar/models/mypilot.h5\n",
            "177/177 [==============================] - 5s 27ms/step - loss: 0.1543 - n_outputs0_loss: 0.1428 - n_outputs1_loss: 0.0115 - val_loss: 0.3401 - val_n_outputs0_loss: 0.3315 - val_n_outputs1_loss: 0.0086\n",
            "Epoch 6/100\n",
            "175/177 [============================>.] - ETA: 0s - loss: 0.1488 - n_outputs0_loss: 0.1371 - n_outputs1_loss: 0.0117Epoch 1/100\n",
            " 43/177 [======>.......................] - ETA: 1s - loss: 0.1704 - n_outputs0_loss: 0.1677 - n_outputs1_loss: 0.0027\n",
            "Epoch 00006: val_loss improved from 0.34012 to 0.16988, saving model to /content/mycar/models/mypilot.h5\n",
            "177/177 [==============================] - 5s 26ms/step - loss: 0.1489 - n_outputs0_loss: 0.1372 - n_outputs1_loss: 0.0117 - val_loss: 0.1699 - val_n_outputs0_loss: 0.1673 - val_n_outputs1_loss: 0.0026\n",
            "Epoch 7/100\n",
            "174/177 [============================>.] - ETA: 0s - loss: 0.1403 - n_outputs0_loss: 0.1290 - n_outputs1_loss: 0.0113Epoch 1/100\n",
            " 42/177 [======>.......................] - ETA: 1s - loss: 0.1439 - n_outputs0_loss: 0.1418 - n_outputs1_loss: 0.0021\n",
            "Epoch 00007: val_loss improved from 0.16988 to 0.14487, saving model to /content/mycar/models/mypilot.h5\n",
            "177/177 [==============================] - 5s 26ms/step - loss: 0.1403 - n_outputs0_loss: 0.1290 - n_outputs1_loss: 0.0113 - val_loss: 0.1449 - val_n_outputs0_loss: 0.1429 - val_n_outputs1_loss: 0.0020\n",
            "Epoch 8/100\n",
            "174/177 [============================>.] - ETA: 0s - loss: 0.1326 - n_outputs0_loss: 0.1223 - n_outputs1_loss: 0.0103Epoch 1/100\n",
            " 42/177 [======>.......................] - ETA: 1s - loss: 0.1371 - n_outputs0_loss: 0.1334 - n_outputs1_loss: 0.0037\n",
            "Epoch 00008: val_loss improved from 0.14487 to 0.13729, saving model to /content/mycar/models/mypilot.h5\n",
            "177/177 [==============================] - 5s 26ms/step - loss: 0.1325 - n_outputs0_loss: 0.1221 - n_outputs1_loss: 0.0104 - val_loss: 0.1373 - val_n_outputs0_loss: 0.1337 - val_n_outputs1_loss: 0.0036\n",
            "Epoch 9/100\n",
            "175/177 [============================>.] - ETA: 0s - loss: 0.1266 - n_outputs0_loss: 0.1164 - n_outputs1_loss: 0.0102Epoch 1/100\n",
            " 41/177 [=====>........................] - ETA: 1s - loss: 0.1297 - n_outputs0_loss: 0.1279 - n_outputs1_loss: 0.0018\n",
            "Epoch 00009: val_loss improved from 0.13729 to 0.12960, saving model to /content/mycar/models/mypilot.h5\n",
            "177/177 [==============================] - 5s 27ms/step - loss: 0.1267 - n_outputs0_loss: 0.1163 - n_outputs1_loss: 0.0103 - val_loss: 0.1296 - val_n_outputs0_loss: 0.1277 - val_n_outputs1_loss: 0.0018\n",
            "Epoch 10/100\n",
            "175/177 [============================>.] - ETA: 0s - loss: 0.1211 - n_outputs0_loss: 0.1109 - n_outputs1_loss: 0.0101Epoch 1/100\n",
            " 42/177 [======>.......................] - ETA: 1s - loss: 0.1316 - n_outputs0_loss: 0.1299 - n_outputs1_loss: 0.0017    \n",
            "Epoch 00010: val_loss did not improve from 0.12960\n",
            "177/177 [==============================] - 4s 25ms/step - loss: 0.1208 - n_outputs0_loss: 0.1107 - n_outputs1_loss: 0.0101 - val_loss: 0.1326 - val_n_outputs0_loss: 0.1309 - val_n_outputs1_loss: 0.0017\n",
            "Epoch 11/100\n",
            "175/177 [============================>.] - ETA: 0s - loss: 0.1195 - n_outputs0_loss: 0.1088 - n_outputs1_loss: 0.0107Epoch 1/100\n",
            " 42/177 [======>.......................] - ETA: 1s - loss: 0.1345 - n_outputs0_loss: 0.1311 - n_outputs1_loss: 0.0035\n",
            "Epoch 00011: val_loss did not improve from 0.12960\n",
            "177/177 [==============================] - 4s 25ms/step - loss: 0.1195 - n_outputs0_loss: 0.1087 - n_outputs1_loss: 0.0107 - val_loss: 0.1341 - val_n_outputs0_loss: 0.1308 - val_n_outputs1_loss: 0.0034\n",
            "Epoch 12/100\n",
            "175/177 [============================>.] - ETA: 0s - loss: 0.1116 - n_outputs0_loss: 0.1021 - n_outputs1_loss: 0.0095Epoch 1/100\n",
            " 39/177 [=====>........................] - ETA: 1s - loss: 0.1315 - n_outputs0_loss: 0.1284 - n_outputs1_loss: 0.0031\n",
            "Epoch 00012: val_loss improved from 0.12960 to 0.12898, saving model to /content/mycar/models/mypilot.h5\n",
            "177/177 [==============================] - 5s 26ms/step - loss: 0.1120 - n_outputs0_loss: 0.1025 - n_outputs1_loss: 0.0095 - val_loss: 0.1290 - val_n_outputs0_loss: 0.1260 - val_n_outputs1_loss: 0.0029\n",
            "Epoch 13/100\n",
            "175/177 [============================>.] - ETA: 0s - loss: 0.1108 - n_outputs0_loss: 0.1016 - n_outputs1_loss: 0.0092Epoch 1/100\n",
            " 42/177 [======>.......................] - ETA: 1s - loss: 0.1257 - n_outputs0_loss: 0.1231 - n_outputs1_loss: 0.0026\n",
            "Epoch 00013: val_loss improved from 0.12898 to 0.12570, saving model to /content/mycar/models/mypilot.h5\n",
            "177/177 [==============================] - 5s 26ms/step - loss: 0.1106 - n_outputs0_loss: 0.1014 - n_outputs1_loss: 0.0092 - val_loss: 0.1257 - val_n_outputs0_loss: 0.1232 - val_n_outputs1_loss: 0.0025\n",
            "Epoch 14/100\n",
            "175/177 [============================>.] - ETA: 0s - loss: 0.1060 - n_outputs0_loss: 0.0964 - n_outputs1_loss: 0.0096Epoch 1/100\n",
            " 44/177 [======>.......................] - ETA: 1s - loss: 0.1357 - n_outputs0_loss: 0.1313 - n_outputs1_loss: 0.0044\n",
            "Epoch 00014: val_loss did not improve from 0.12570\n",
            "177/177 [==============================] - 4s 25ms/step - loss: 0.1062 - n_outputs0_loss: 0.0966 - n_outputs1_loss: 0.0096 - val_loss: 0.1357 - val_n_outputs0_loss: 0.1313 - val_n_outputs1_loss: 0.0044\n",
            "Epoch 15/100\n",
            "175/177 [============================>.] - ETA: 0s - loss: 0.1013 - n_outputs0_loss: 0.0920 - n_outputs1_loss: 0.0093Epoch 1/100\n",
            " 41/177 [=====>........................] - ETA: 1s - loss: 0.1331 - n_outputs0_loss: 0.1314 - n_outputs1_loss: 0.0016\n",
            "Epoch 00015: val_loss did not improve from 0.12570\n",
            "177/177 [==============================] - 4s 25ms/step - loss: 0.1012 - n_outputs0_loss: 0.0918 - n_outputs1_loss: 0.0093 - val_loss: 0.1316 - val_n_outputs0_loss: 0.1297 - val_n_outputs1_loss: 0.0019\n",
            "Epoch 16/100\n",
            "175/177 [============================>.] - ETA: 0s - loss: 0.1000 - n_outputs0_loss: 0.0913 - n_outputs1_loss: 0.0088Epoch 1/100\n",
            " 44/177 [======>.......................] - ETA: 1s - loss: 0.1233 - n_outputs0_loss: 0.1207 - n_outputs1_loss: 0.0026\n",
            "Epoch 00016: val_loss improved from 0.12570 to 0.12330, saving model to /content/mycar/models/mypilot.h5\n",
            "177/177 [==============================] - 5s 26ms/step - loss: 0.1001 - n_outputs0_loss: 0.0914 - n_outputs1_loss: 0.0087 - val_loss: 0.1233 - val_n_outputs0_loss: 0.1207 - val_n_outputs1_loss: 0.0026\n",
            "Epoch 17/100\n",
            "174/177 [============================>.] - ETA: 0s - loss: 0.0931 - n_outputs0_loss: 0.0847 - n_outputs1_loss: 0.0084Epoch 1/100\n",
            " 42/177 [======>.......................] - ETA: 1s - loss: 0.1167 - n_outputs0_loss: 0.1142 - n_outputs1_loss: 0.0025\n",
            "Epoch 00017: val_loss improved from 0.12330 to 0.11700, saving model to /content/mycar/models/mypilot.h5\n",
            "177/177 [==============================] - 5s 27ms/step - loss: 0.0932 - n_outputs0_loss: 0.0848 - n_outputs1_loss: 0.0084 - val_loss: 0.1170 - val_n_outputs0_loss: 0.1138 - val_n_outputs1_loss: 0.0032\n",
            "Epoch 18/100\n",
            "176/177 [============================>.] - ETA: 0s - loss: 0.0894 - n_outputs0_loss: 0.0811 - n_outputs1_loss: 0.0083Epoch 1/100\n",
            " 42/177 [======>.......................] - ETA: 1s - loss: 0.1195 - n_outputs0_loss: 0.1167 - n_outputs1_loss: 0.0027\n",
            "Epoch 00018: val_loss did not improve from 0.11700\n",
            "177/177 [==============================] - 4s 25ms/step - loss: 0.0894 - n_outputs0_loss: 0.0811 - n_outputs1_loss: 0.0083 - val_loss: 0.1210 - val_n_outputs0_loss: 0.1184 - val_n_outputs1_loss: 0.0026\n",
            "Epoch 19/100\n",
            "175/177 [============================>.] - ETA: 0s - loss: 0.0888 - n_outputs0_loss: 0.0805 - n_outputs1_loss: 0.0082Epoch 1/100\n",
            " 44/177 [======>.......................] - ETA: 1s - loss: 0.1193 - n_outputs0_loss: 0.1180 - n_outputs1_loss: 0.0014\n",
            "Epoch 00019: val_loss did not improve from 0.11700\n",
            "177/177 [==============================] - 4s 25ms/step - loss: 0.0889 - n_outputs0_loss: 0.0805 - n_outputs1_loss: 0.0084 - val_loss: 0.1193 - val_n_outputs0_loss: 0.1180 - val_n_outputs1_loss: 0.0014\n",
            "Epoch 20/100\n",
            "175/177 [============================>.] - ETA: 0s - loss: 0.0861 - n_outputs0_loss: 0.0780 - n_outputs1_loss: 0.0081Epoch 1/100\n",
            " 44/177 [======>.......................] - ETA: 1s - loss: 0.1262 - n_outputs0_loss: 0.1225 - n_outputs1_loss: 0.0037\n",
            "Epoch 00020: val_loss did not improve from 0.11700\n",
            "177/177 [==============================] - 4s 25ms/step - loss: 0.0862 - n_outputs0_loss: 0.0782 - n_outputs1_loss: 0.0081 - val_loss: 0.1262 - val_n_outputs0_loss: 0.1225 - val_n_outputs1_loss: 0.0037\n",
            "Epoch 21/100\n",
            "174/177 [============================>.] - ETA: 0s - loss: 0.0812 - n_outputs0_loss: 0.0735 - n_outputs1_loss: 0.0077Epoch 1/100\n",
            " 41/177 [=====>........................] - ETA: 1s - loss: 0.1191 - n_outputs0_loss: 0.1174 - n_outputs1_loss: 0.0017\n",
            "Epoch 00021: val_loss did not improve from 0.11700\n",
            "177/177 [==============================] - 4s 25ms/step - loss: 0.0817 - n_outputs0_loss: 0.0738 - n_outputs1_loss: 0.0079 - val_loss: 0.1185 - val_n_outputs0_loss: 0.1161 - val_n_outputs1_loss: 0.0024\n",
            "Epoch 22/100\n",
            "174/177 [============================>.] - ETA: 0s - loss: 0.0813 - n_outputs0_loss: 0.0734 - n_outputs1_loss: 0.0079Epoch 1/100\n",
            " 44/177 [======>.......................] - ETA: 1s - loss: 0.1172 - n_outputs0_loss: 0.1146 - n_outputs1_loss: 0.0025\n",
            "Epoch 00022: val_loss did not improve from 0.11700\n",
            "177/177 [==============================] - 4s 25ms/step - loss: 0.0810 - n_outputs0_loss: 0.0732 - n_outputs1_loss: 0.0078 - val_loss: 0.1172 - val_n_outputs0_loss: 0.1146 - val_n_outputs1_loss: 0.0025\n",
            "Epoch 00022: early stopping\n",
            "Training completed in 0:01:55.\n",
            "\n",
            "\n",
            "----------- Best Eval Loss :0.116997 ---------\n",
            "<Figure size 640x480 with 1 Axes>\n"
          ],
          "name": "stdout"
        }
      ]
    },
    {
      "cell_type": "markdown",
      "metadata": {
        "id": "T3Ya8qEUAfOv"
      },
      "source": [
        "## Step 4 opt B: Train RNN model\n",
        "The RNN model combines several images to calculate steering and throttle.  \n",
        "Use the `manage.py` script to start training"
      ]
    },
    {
      "cell_type": "code",
      "metadata": {
        "id": "edH3xO_AVWXu"
      },
      "source": [
        "!python /content/mycar/manage.py train --type rnn --model /content/mycar/models/mypilot.h5 --aug"
      ],
      "execution_count": null,
      "outputs": []
    },
    {
      "cell_type": "markdown",
      "metadata": {
        "id": "LF7RJ3e1Mkiw"
      },
      "source": [
        "# Step 5: Check model and transfer data\n",
        "To check the quality of the model we look at the loss curve and see how well commanded and predicted steering and throttle values match.  \n",
        "We transfer the data to the car and show how to start the self driving car.\n"
      ]
    },
    {
      "cell_type": "markdown",
      "metadata": {
        "id": "rXzn1noJz5MQ"
      },
      "source": [
        "## Plot loss curve of model\n",
        "The curve should show smaller loss vs epochs and the train and validation loss should not differ too much. \n",
        ">  Tip: If train loss is much smaller than validation loss your model might be overfitting.\n",
        "\n"
      ]
    },
    {
      "cell_type": "code",
      "metadata": {
        "id": "AixQrFy_z3vv",
        "outputId": "df45edc7-31a0-4799-a0dd-a77cc4b01c27",
        "colab": {
          "base_uri": "https://localhost:8080/",
          "height": 514
        }
      },
      "source": [
        "%cd /content/mycar/models\n",
        "file = glob.glob(\"*.png\")\n",
        "Image(file[0])"
      ],
      "execution_count": null,
      "outputs": [
        {
          "output_type": "stream",
          "text": [
            "/content/mycar/models\n"
          ],
          "name": "stdout"
        },
        {
          "output_type": "execute_result",
          "data": {
            "image/png": "[encoded data removed]",
            "text/plain": [
              "<IPython.core.display.Image object>"
            ]
          },
          "metadata": {
            "tags": []
          },
          "execution_count": 16
        }
      ]
    },
    {
      "cell_type": "markdown",
      "metadata": {
        "id": "ra7Hp3edyCZm"
      },
      "source": [
        "## Plot commands and predictions\n",
        "You can use \n",
        "\n",
        "\n",
        "```\n",
        "donkey tubplot <tub_path> [--model=<model_path>]\n",
        "```\n",
        "\n",
        "to plot the commands and predictions of steering and throttle\n",
        "\n"
      ]
    },
    {
      "cell_type": "code",
      "metadata": {
        "id": "eqEy49rqyZ4T",
        "outputId": "27f2be9f-1ee8-4690-9b42-b0bb38e59227",
        "colab": {
          "base_uri": "https://localhost:8080/",
          "height": 1000
        }
      },
      "source": [
        "%cd /content/mycar\n",
        "!donkey tubplot  --tub=data/ --tub=data/tubVaihingenIIICleaned200126 --model=models/mypilot.h5 \n",
        "file = glob.glob(\"/content/mycar/models/mypilot.h5_pred.png\")\n",
        "Image(file[0])"
      ],
      "execution_count": null,
      "outputs": [
        {
          "output_type": "stream",
          "text": [
            "/content/mycar\n",
            "using donkey v3.1.2 ...\n",
            "loading config file: ./config.py\n",
            "myconfig myconfig.py\n",
            "loading personal config over-rides from myconfig.py\n",
            "\n",
            "config loaded\n",
            "\"get_model_by_type\" model Type is: linear\n",
            "WARNING:tensorflow:From /tensorflow-1.15.2/python3.6/tensorflow_core/python/ops/resource_variable_ops.py:1630: calling BaseResourceVariable.__init__ (from tensorflow.python.ops.resource_variable_ops) with constraint is deprecated and will be removed in a future version.\n",
            "Instructions for updating:\n",
            "If using Keras pass *_constraint arguments to layers.\n",
            "WARNING:tensorflow:From /tensorflow-1.15.2/python3.6/tensorflow_core/python/ops/init_ops.py:97: calling Zeros.__init__ (from tensorflow.python.ops.init_ops) with dtype is deprecated and will be removed in a future version.\n",
            "Instructions for updating:\n",
            "Call initializer instance with the dtype argument instead of passing it to the constructor\n",
            "WARNING:tensorflow:From /tensorflow-1.15.2/python3.6/tensorflow_core/python/ops/init_ops.py:97: calling Ones.__init__ (from tensorflow.python.ops.init_ops) with dtype is deprecated and will be removed in a future version.\n",
            "Instructions for updating:\n",
            "Call initializer instance with the dtype argument instead of passing it to the constructor\n",
            "WARNING:tensorflow:From /tensorflow-1.15.2/python3.6/tensorflow_core/python/ops/init_ops.py:97: calling GlorotUniform.__init__ (from tensorflow.python.ops.init_ops) with dtype is deprecated and will be removed in a future version.\n",
            "Instructions for updating:\n",
            "Call initializer instance with the dtype argument instead of passing it to the constructor\n",
            "2020-05-28 15:15:21.333668: I tensorflow/stream_executor/platform/default/dso_loader.cc:44] Successfully opened dynamic library libcuda.so.1\n",
            "2020-05-28 15:15:21.336208: I tensorflow/stream_executor/cuda/cuda_gpu_executor.cc:983] successful NUMA node read from SysFS had negative value (-1), but there must be at least one NUMA node, so returning NUMA node zero\n",
            "2020-05-28 15:15:21.336818: I tensorflow/core/common_runtime/gpu/gpu_device.cc:1639] Found device 0 with properties: \n",
            "name: Tesla P100-PCIE-16GB major: 6 minor: 0 memoryClockRate(GHz): 1.3285\n",
            "pciBusID: 0000:00:04.0\n",
            "2020-05-28 15:15:21.337135: I tensorflow/stream_executor/platform/default/dso_loader.cc:44] Successfully opened dynamic library libcudart.so.10.1\n",
            "2020-05-28 15:15:21.339213: I tensorflow/stream_executor/platform/default/dso_loader.cc:44] Successfully opened dynamic library libcublas.so.10\n",
            "2020-05-28 15:15:21.340908: I tensorflow/stream_executor/platform/default/dso_loader.cc:44] Successfully opened dynamic library libcufft.so.10\n",
            "2020-05-28 15:15:21.341246: I tensorflow/stream_executor/platform/default/dso_loader.cc:44] Successfully opened dynamic library libcurand.so.10\n",
            "2020-05-28 15:15:21.352124: I tensorflow/stream_executor/platform/default/dso_loader.cc:44] Successfully opened dynamic library libcusolver.so.10\n",
            "2020-05-28 15:15:21.355539: I tensorflow/stream_executor/platform/default/dso_loader.cc:44] Successfully opened dynamic library libcusparse.so.10\n",
            "2020-05-28 15:15:21.362433: I tensorflow/stream_executor/platform/default/dso_loader.cc:44] Successfully opened dynamic library libcudnn.so.7\n",
            "2020-05-28 15:15:21.362552: I tensorflow/stream_executor/cuda/cuda_gpu_executor.cc:983] successful NUMA node read from SysFS had negative value (-1), but there must be at least one NUMA node, so returning NUMA node zero\n",
            "2020-05-28 15:15:21.363208: I tensorflow/stream_executor/cuda/cuda_gpu_executor.cc:983] successful NUMA node read from SysFS had negative value (-1), but there must be at least one NUMA node, so returning NUMA node zero\n",
            "2020-05-28 15:15:21.363746: I tensorflow/core/common_runtime/gpu/gpu_device.cc:1767] Adding visible gpu devices: 0\n",
            "2020-05-28 15:15:21.368965: I tensorflow/core/platform/profile_utils/cpu_utils.cc:94] CPU Frequency: 2200000000 Hz\n",
            "2020-05-28 15:15:21.369168: I tensorflow/compiler/xla/service/service.cc:168] XLA service 0x61aee00 initialized for platform Host (this does not guarantee that XLA will be used). Devices:\n",
            "2020-05-28 15:15:21.369195: I tensorflow/compiler/xla/service/service.cc:176]   StreamExecutor device (0): Host, Default Version\n",
            "2020-05-28 15:15:21.459586: I tensorflow/stream_executor/cuda/cuda_gpu_executor.cc:983] successful NUMA node read from SysFS had negative value (-1), but there must be at least one NUMA node, so returning NUMA node zero\n",
            "2020-05-28 15:15:21.460235: I tensorflow/compiler/xla/service/service.cc:168] XLA service 0x61aefc0 initialized for platform CUDA (this does not guarantee that XLA will be used). Devices:\n",
            "2020-05-28 15:15:21.460266: I tensorflow/compiler/xla/service/service.cc:176]   StreamExecutor device (0): Tesla P100-PCIE-16GB, Compute Capability 6.0\n",
            "2020-05-28 15:15:21.460429: I tensorflow/stream_executor/cuda/cuda_gpu_executor.cc:983] successful NUMA node read from SysFS had negative value (-1), but there must be at least one NUMA node, so returning NUMA node zero\n",
            "2020-05-28 15:15:21.460998: I tensorflow/core/common_runtime/gpu/gpu_device.cc:1639] Found device 0 with properties: \n",
            "name: Tesla P100-PCIE-16GB major: 6 minor: 0 memoryClockRate(GHz): 1.3285\n",
            "pciBusID: 0000:00:04.0\n",
            "2020-05-28 15:15:21.461059: I tensorflow/stream_executor/platform/default/dso_loader.cc:44] Successfully opened dynamic library libcudart.so.10.1\n",
            "2020-05-28 15:15:21.461084: I tensorflow/stream_executor/platform/default/dso_loader.cc:44] Successfully opened dynamic library libcublas.so.10\n",
            "2020-05-28 15:15:21.461104: I tensorflow/stream_executor/platform/default/dso_loader.cc:44] Successfully opened dynamic library libcufft.so.10\n",
            "2020-05-28 15:15:21.461125: I tensorflow/stream_executor/platform/default/dso_loader.cc:44] Successfully opened dynamic library libcurand.so.10\n",
            "2020-05-28 15:15:21.461143: I tensorflow/stream_executor/platform/default/dso_loader.cc:44] Successfully opened dynamic library libcusolver.so.10\n",
            "2020-05-28 15:15:21.461159: I tensorflow/stream_executor/platform/default/dso_loader.cc:44] Successfully opened dynamic library libcusparse.so.10\n",
            "2020-05-28 15:15:21.461178: I tensorflow/stream_executor/platform/default/dso_loader.cc:44] Successfully opened dynamic library libcudnn.so.7\n",
            "2020-05-28 15:15:21.461246: I tensorflow/stream_executor/cuda/cuda_gpu_executor.cc:983] successful NUMA node read from SysFS had negative value (-1), but there must be at least one NUMA node, so returning NUMA node zero\n",
            "2020-05-28 15:15:21.462030: I tensorflow/stream_executor/cuda/cuda_gpu_executor.cc:983] successful NUMA node read from SysFS had negative value (-1), but there must be at least one NUMA node, so returning NUMA node zero\n",
            "2020-05-28 15:15:21.462513: I tensorflow/core/common_runtime/gpu/gpu_device.cc:1767] Adding visible gpu devices: 0\n",
            "2020-05-28 15:15:21.462570: I tensorflow/stream_executor/platform/default/dso_loader.cc:44] Successfully opened dynamic library libcudart.so.10.1\n",
            "2020-05-28 15:15:21.463567: I tensorflow/core/common_runtime/gpu/gpu_device.cc:1180] Device interconnect StreamExecutor with strength 1 edge matrix:\n",
            "2020-05-28 15:15:21.463592: I tensorflow/core/common_runtime/gpu/gpu_device.cc:1186]      0 \n",
            "2020-05-28 15:15:21.463603: I tensorflow/core/common_runtime/gpu/gpu_device.cc:1199] 0:   N \n",
            "2020-05-28 15:15:21.463726: I tensorflow/stream_executor/cuda/cuda_gpu_executor.cc:983] successful NUMA node read from SysFS had negative value (-1), but there must be at least one NUMA node, so returning NUMA node zero\n",
            "2020-05-28 15:15:21.464301: I tensorflow/stream_executor/cuda/cuda_gpu_executor.cc:983] successful NUMA node read from SysFS had negative value (-1), but there must be at least one NUMA node, so returning NUMA node zero\n",
            "2020-05-28 15:15:21.464825: W tensorflow/core/common_runtime/gpu/gpu_bfc_allocator.cc:39] Overriding allow_growth setting because the TF_FORCE_GPU_ALLOW_GROWTH environment variable is set. Original config value was 0.\n",
            "2020-05-28 15:15:21.464864: I tensorflow/core/common_runtime/gpu/gpu_device.cc:1325] Created TensorFlow device (/job:localhost/replica:0/task:0/device:GPU:0 with 14858 MB memory) -> physical GPU (device: 0, name: Tesla P100-PCIE-16GB, pci bus id: 0000:00:04.0, compute capability: 6.0)\n",
            "processing 1000 records:\n",
            "2020-05-28 15:15:22.373437: I tensorflow/stream_executor/platform/default/dso_loader.cc:44] Successfully opened dynamic library libcublas.so.10\n",
            "2020-05-28 15:15:22.622740: I tensorflow/stream_executor/platform/default/dso_loader.cc:44] Successfully opened dynamic library libcudnn.so.7\n",
            "<Figure size 640x480 with 2 Axes>\n"
          ],
          "name": "stdout"
        },
        {
          "output_type": "execute_result",
          "data": {
            "image/png": "[encoded data removed]",
            "text/plain": [
              "<IPython.core.display.Image object>"
            ]
          },
          "metadata": {
            "tags": []
          },
          "execution_count": 17
        }
      ]
    },
    {
      "cell_type": "markdown",
      "metadata": {
        "id": "6BEOJYH601O0"
      },
      "source": [
        "## Copy the trained model back to Donkey Car (Pi)\n",
        "\n",
        "Once the training is complete on Colab, download\n",
        "\n",
        "\n",
        "*   mypilot.h5 file from /content/mycar/models/ \n",
        "*   myconfig.py file from /content/mycar/\n",
        "\n",
        "---\n",
        "\n",
        "\n"
      ]
    },
    {
      "cell_type": "code",
      "metadata": {
        "id": "YtvyJpOdocjb"
      },
      "source": [
        "files.download('./mypilot.h5')\n",
        "%cd /content/mycar\n",
        "files.download('myconfig.py')"
      ],
      "execution_count": null,
      "outputs": []
    },
    {
      "cell_type": "markdown",
      "metadata": {
        "id": "i7AIY6yBOCM-"
      },
      "source": [
        "Alternatively, you can copy the model back to Google Drive too"
      ]
    },
    {
      "cell_type": "code",
      "metadata": {
        "id": "7Dim4fCpOBo9"
      },
      "source": [
        "!cp /content/mycar/models/mypilot.h5 /content/drive/My\\ Drive/myCar/mypilot.h5"
      ],
      "execution_count": null,
      "outputs": []
    },
    {
      "cell_type": "markdown",
      "metadata": {
        "id": "GpkOVzh86omO"
      },
      "source": [
        "## Copy the file from your PC or Mac to the Raspberry Pi using Filezilla or scp command.\n",
        "\n",
        "```\n",
        "sftp pi@raspberry.local\n",
        "cd mycar/models\n",
        "put mypilot.h5\n",
        "```"
      ]
    },
    {
      "cell_type": "markdown",
      "metadata": {
        "id": "hfERkGy821Xy"
      },
      "source": [
        "## Start Autopilot on Pi\n",
        "\n",
        "\n",
        "```bash\n",
        "cd ~/mycar\n",
        "python manage.py drive --model models/mypilot.h5 --js\n",
        "```\n"
      ]
    },
    {
      "cell_type": "markdown",
      "metadata": {
        "id": "X93SodzAv9hV"
      },
      "source": [
        "# Step 6: Bonus - Salient Object Visualization\n",
        "The salient visualization gives an indication which parts of the image caused the highest activations in the model. Its a good method to understand what triggers the steering and indentify problems\n",
        "- reflections\n",
        "- distractions off the track\n",
        "\n",
        "> Note: It seems like the salient mode doesn't work for RNN networks"
      ]
    },
    {
      "cell_type": "code",
      "metadata": {
        "id": "4AZvWSeiyqto"
      },
      "source": [
        "# !pip install git+https://github.com/autorope/keras-vis.git\n",
        "!pip uninstall keras-vis\n",
        "!pip install git+https://github.com/sctse999/keras-vis\n",
        "  \n",
        "  "
      ],
      "execution_count": null,
      "outputs": []
    },
    {
      "cell_type": "code",
      "metadata": {
        "id": "kKI37gVrv9Q8"
      },
      "source": [
        "%cd /content/mycar\n",
        "!donkey makemovie --tub data/{tub_name} --model models/mypilot.h5 --type linear --salient"
      ],
      "execution_count": null,
      "outputs": []
    },
    {
      "cell_type": "markdown",
      "metadata": {
        "id": "h7Rh-PlQFCkR"
      },
      "source": [
        "Download the movie to local machine"
      ]
    },
    {
      "cell_type": "code",
      "metadata": {
        "id": "IcUrgOq_pePV"
      },
      "source": [
        "%cd /content/mycar\n",
        "!ls -ahl\n",
        "files.download('tub_movie.mp4')"
      ],
      "execution_count": null,
      "outputs": []
    },
    {
      "cell_type": "markdown",
      "metadata": {
        "id": "H9naBRC-GZ82"
      },
      "source": [
        "Or download the file to Google Drive"
      ]
    },
    {
      "cell_type": "code",
      "metadata": {
        "id": "QwXuQ7vhGh6l"
      },
      "source": [
        "!cp /content/mycar/tub_movie.mp4 /content/drive/My\\ Drive/myCar/tub_movie.mp4"
      ],
      "execution_count": null,
      "outputs": []
    }
  ]
}