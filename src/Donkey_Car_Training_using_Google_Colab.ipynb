{
  "nbformat": 4,
  "nbformat_minor": 0,
  "metadata": {
    "colab": {
      "name": "Donkey Car Training using Google Colab",
      "provenance": [],
      "collapsed_sections": [],
      "toc_visible": true
    },
    "kernelspec": {
      "name": "python3",
      "display_name": "Python 3"
    },
    "accelerator": "GPU"
  },
  "cells": [
    {
      "cell_type": "markdown",
      "metadata": {
        "id": "BlmQIFSLZDdc"
      },
      "source": [
        "#Donkey Car Colab with Accelerated Hardware (Tensorflow GPU)\n",
        "\n",
        "This notebook is to quickly train your donkey car or self driving RC car model using Google Colab."
      ]
    },
    {
      "cell_type": "markdown",
      "metadata": {
        "id": "liQZb4cDmZgy"
      },
      "source": [
        "# Install TensorFlow 2.0.0 Alpha0 Update\n"
      ]
    },
    {
      "cell_type": "code",
      "metadata": {
        "id": "QSX76iKYmd_V"
      },
      "source": [
        "!pip install tensorflow-gpu==2.0.0-Alpha0"
      ],
      "execution_count": null,
      "outputs": []
    },
    {
      "cell_type": "markdown",
      "metadata": {
        "id": "arsH-DhLcihq"
      },
      "source": [
        "# Check GPU allocation\n",
        "If \"Found GPU at: / device: GPU: 0\" is displayed, the GPU is ready to use."
      ]
    },
    {
      "cell_type": "code",
      "metadata": {
        "id": "uQgEhuoTcg0N"
      },
      "source": [
        "import tensorflow as tf\n",
        "device_name = tf.test.gpu_device_name()\n",
        "if device_name != '/device:GPU:0':\n",
        "  raise SystemError('GPU device not found')\n",
        "print('Found GPU at: {}'.format(device_name))"
      ],
      "execution_count": null,
      "outputs": []
    },
    {
      "cell_type": "markdown",
      "metadata": {
        "id": "Ba2oPDIrsDFg"
      },
      "source": [
        "# Git Clone the donkey respository"
      ]
    },
    {
      "cell_type": "code",
      "metadata": {
        "id": "oOxd9PFUyNxI"
      },
      "source": [
        "!git clone https://github.com/autorope/donkeycar.git donkey"
      ],
      "execution_count": null,
      "outputs": []
    },
    {
      "cell_type": "markdown",
      "metadata": {
        "id": "9TkkcF-gsAnx"
      },
      "source": [
        "# Install donkey car"
      ]
    },
    {
      "cell_type": "code",
      "metadata": {
        "id": "jz_PZgrByPDh"
      },
      "source": [
        "!pip3 install -e donkey"
      ],
      "execution_count": null,
      "outputs": []
    },
    {
      "cell_type": "markdown",
      "metadata": {
        "id": "syCctLq2r4Wk"
      },
      "source": [
        "# Create Project\n",
        "d2 is the project name and you can rename it with your choice. Make sure if you rename d2 below, that you change all the remaining part of the codes as well in this notebook."
      ]
    },
    {
      "cell_type": "code",
      "metadata": {
        "id": "1xjJBSITyXy2"
      },
      "source": [
        "!donkey createcar --path /content/d2"
      ],
      "execution_count": null,
      "outputs": []
    },
    {
      "cell_type": "markdown",
      "metadata": {
        "id": "dnUy1Z1zro77"
      },
      "source": [
        "#Prepare the data: upload data.zip and unzip data\n",
        "When the following code is executed, a file upload form appears. Upload data.zip.\n",
        "The data.zip file is the folder found from your raspberry pi. Copy the data to your pc/mac and then zip it as data.zip\n",
        "data.zip is uploaded under / content. Move to /content/d2/data using the mv command and unzip it."
      ]
    },
    {
      "cell_type": "markdown",
      "metadata": {
        "id": "yy38G13p6FFA"
      },
      "source": [
        "<img src=\"https://i1.wp.com/techwithsach.com/wp-content/uploads/2019/06/Screen-Shot-2019-06-29-at-7.43.15-PM.png?fit=1024%2C658&amp;ssl=1\" alt=\"Train an autopilot using Colab\" class=\"wp-image-872\"/>"
      ]
    },
    {
      "cell_type": "code",
      "metadata": {
        "id": "nqB_I9dsxBoA"
      },
      "source": [
        "import os\n",
        "from google.colab import files\n",
        "\n",
        "if(os.path.exists(\"/content/data.zip\")):\n",
        "   os.remove(\"/content/data.zip\")\n",
        "if(os.path.exists(\"/content/d2/data/data.zip\")):\n",
        "   os.remove(\"/content/d2/data/data.zip\")\n",
        "   \n",
        "uploaded = files.upload()\n",
        "\n",
        "WORK_FOLDER = \"/content/d2/data/\"\n",
        "if(os.path.exists(WORK_FOLDER) == False):\n",
        "  os.makedirs(WORK_FOLDER)\n",
        "\n",
        "!mv /content/data.zip /content/d2/data/\n",
        "%cd /content/d2/data/\n",
        "!unzip -o data.zip"
      ],
      "execution_count": null,
      "outputs": []
    },
    {
      "cell_type": "markdown",
      "metadata": {
        "id": "9-3U5MnYoZPY"
      },
      "source": [
        "# Clean up your data folder\n",
        "make sure you have only the tub folders and its associated images and JSON files."
      ]
    },
    {
      "cell_type": "code",
      "metadata": {
        "id": "bXs57m5Nh91O"
      },
      "source": [
        "!rm /content/d2/data/data.zip"
      ],
      "execution_count": null,
      "outputs": []
    },
    {
      "cell_type": "markdown",
      "metadata": {
        "id": "T3Ya8qEUAfOv"
      },
      "source": [
        "# Train your model"
      ]
    },
    {
      "cell_type": "markdown",
      "metadata": {
        "id": "lopVTV_M96rX"
      },
      "source": [
        "<img src=\"https://i2.wp.com/techwithsach.com/wp-content/uploads/2019/06/Donkey-Car-training-using-Google-Colab.png?fit=1024%2C509&amp;ssl=1\" alt=\"Donkey Car training using Google Colab\" class=\"wp-image-879\"/>"
      ]
    },
    {
      "cell_type": "code",
      "metadata": {
        "id": "edH3xO_AVWXu"
      },
      "source": [
        "!python /content/d2/manage.py train --model /content/d2/models/mypilot.h5"
      ],
      "execution_count": null,
      "outputs": []
    },
    {
      "cell_type": "markdown",
      "metadata": {
        "id": "6BEOJYH601O0"
      },
      "source": [
        "#Copy trained model to the Donkey Car.\n",
        "Once the training is complete, you will find the mypilot model file under d2/models/ folder location.\n",
        "1. Download the mypilot file to your PC or Mac.\n",
        "2. Copy the file from your PC or Mac to the Raspberry Pi using Filezilla or scp command."
      ]
    },
    {
      "cell_type": "markdown",
      "metadata": {
        "id": "hfERkGy821Xy"
      },
      "source": [
        "# Drive using the Autopilot mode\n",
        "Continue to follow the remaining part of the tutorial from **techwithsach.com**\n"
      ]
    }
  ]
}