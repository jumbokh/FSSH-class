{
  "cells": [
    {
      "cell_type": "markdown",
      "source": [
        "https://github.com/jumbokh/Deep-Learning-MOOC"
      ],
      "metadata": {
        "id": "9iqbBXWV-AxR"
      }
    },
    {
      "cell_type": "markdown",
      "metadata": {
        "id": "qN4iUaaF8WXH"
      },
      "source": [
        "# 主題 02-1. 用 CNN 做圖形辨識\n",
        "\n",
        "Yann LeCun 被譽為 Deep Learning 的三巨頭之一。他的 CNN (Convolutional Neural Networks) 是讓 Neural Network 重新受到重視的主因之一。"
      ]
    },
    {
      "cell_type": "markdown",
      "metadata": {
        "id": "fxRTG4928WXR"
      },
      "source": [
        "## 1. 初始準備\n",
        "\n",
        "基本上和之前是一樣的, 我們就不再說明。"
      ]
    },
    {
      "cell_type": "code",
      "execution_count": null,
      "metadata": {
        "id": "MFPCYjnY8WXT",
        "outputId": "b7ddbe00-2097-4786-a116-896d4ebf11d9"
      },
      "outputs": [
        {
          "name": "stdout",
          "output_type": "stream",
          "text": [
            "env: KERAS_BACKEND=tensorflow\n"
          ]
        }
      ],
      "source": [
        "%env KERAS_BACKEND=tensorflow"
      ]
    },
    {
      "cell_type": "code",
      "execution_count": null,
      "metadata": {
        "collapsed": true,
        "id": "1qeumU608WXY"
      },
      "outputs": [],
      "source": [
        "%matplotlib inline\n",
        "import numpy as np\n",
        "import matplotlib.pyplot as plt"
      ]
    },
    {
      "cell_type": "markdown",
      "metadata": {
        "id": "P1XJmS758WXZ"
      },
      "source": [
        "## 2. 讀入 MNIST 數據庫\n",
        "\n",
        "### 2.1 由 Keras 讀入 MNIST\n",
        "\n",
        "基本上和我們上次一樣, 這次因為 Keras 已偷偷把數據庫存在你的電腦, 所以會快很多!"
      ]
    },
    {
      "cell_type": "code",
      "execution_count": null,
      "metadata": {
        "id": "Tssz0ghO8WXb",
        "outputId": "29e7d9d0-dcf7-4d1e-b23c-e74303df533b"
      },
      "outputs": [
        {
          "name": "stderr",
          "output_type": "stream",
          "text": [
            "Using TensorFlow backend.\n",
            "/Users/mac/anaconda/envs/tensorflow/lib/python3.6/importlib/_bootstrap.py:219: RuntimeWarning: compiletime version 3.5 of module 'tensorflow.python.framework.fast_tensor_util' does not match runtime version 3.6\n",
            "  return f(*args, **kwds)\n"
          ]
        }
      ],
      "source": [
        "from keras.datasets import mnist"
      ]
    },
    {
      "cell_type": "code",
      "execution_count": null,
      "metadata": {
        "collapsed": true,
        "id": "lSybqYHY8WXc"
      },
      "outputs": [],
      "source": [
        "(x_train, y_train), (x_test, y_test) = mnist.load_data()"
      ]
    },
    {
      "cell_type": "markdown",
      "metadata": {
        "id": "n-8cPJ0r8WXd"
      },
      "source": [
        "### 2.2 輸入格式整理\n",
        "\n",
        "如果你還記得, 我們每筆輸入資料都是 28x28 的陣列, CNN 其實就是吃「圖」的, 所以基本上不用像之前把每筆資料拉平。「但。是。」平常的圖都有 R, G, B 三個 channels, 每個 channel 都是一個矩陣, 也就是一張圖可能是三個矩陣! 我們是灰階, 也就是只有一個 channel。但這件事也要明確的告訴 Keras。\n",
        "\n",
        "換句話說, 我們的輸入每筆資料型式要從 (28, 28) 換成 (28, 28, 1)!"
      ]
    },
    {
      "cell_type": "code",
      "execution_count": null,
      "metadata": {
        "collapsed": true,
        "id": "8RnQFv6X8WXe"
      },
      "outputs": [],
      "source": [
        "x_train = x_train.reshape(60000, 28, 28, 1)\n",
        "x_test = x_test.reshape(10000, 28, 28, 1)"
      ]
    },
    {
      "cell_type": "markdown",
      "metadata": {
        "id": "ai82fjgT8WXf"
      },
      "source": [
        "確認一下..."
      ]
    },
    {
      "cell_type": "code",
      "execution_count": null,
      "metadata": {
        "id": "oaFzO1_r8WXf",
        "outputId": "753a8995-4097-41e1-a590-7fcb9f71cf58"
      },
      "outputs": [
        {
          "data": {
            "text/plain": [
              "(28, 28, 1)"
            ]
          },
          "execution_count": 6,
          "metadata": {},
          "output_type": "execute_result"
        }
      ],
      "source": [
        "x_train[9487].shape"
      ]
    },
    {
      "cell_type": "markdown",
      "metadata": {
        "id": "oiteBjhy8WXg"
      },
      "source": [
        "原來 28x28 矩陣..."
      ]
    },
    {
      "cell_type": "code",
      "execution_count": null,
      "metadata": {
        "id": "16Vy5Xj18WXg",
        "outputId": "73bd842e-cd91-4722-fc60-db79039514a9"
      },
      "outputs": [
        {
          "data": {
            "text/plain": [
              "array([[  0,   0,   0,   0,   0,   0,   0,   0,   0,   0,   0,   0,   0,\n",
              "          0,   0,   0,   0,   0,   0,   0,   0,   0,   0,   0,   0,   0,\n",
              "          0,   0],\n",
              "       [  0,   0,   0,   0,   0,   0,   0,   0,   0,   0,   0,   0,   0,\n",
              "          0,   0,   0,   0,   0,   0,   0,   0,   0,   0,   0,   0,   0,\n",
              "          0,   0],\n",
              "       [  0,   0,   0,   0,   0,   0,   0,   0,   0,   0,   0,   0,   0,\n",
              "          0,   0,   0,   0,   0,   0,   0,   0,   0,   0,   0,   0,   0,\n",
              "          0,   0],\n",
              "       [  0,   0,   0,   0,   0,   0,   0,   0,   0,   0,   0,   0,   0,\n",
              "          0,   0,   0,   0,   0,   0,   0,   0,   0,   0,   0,   0,   0,\n",
              "          0,   0],\n",
              "       [  0,   0,   0,   0,   0,   0,   0,   0,   0,   0,   0,   0, 240,\n",
              "        253, 165,   0,   0,   0,   0,   0,   0,   0,   0,   0,   0,   0,\n",
              "          0,   0],\n",
              "       [  0,   0,   0,   0,   0,   0,   0,   0,   0,   0,   0,  32, 241,\n",
              "        252, 252,   0,   0,   0,   0,   0,   0,   0,   0,   0,   0,   0,\n",
              "          0,   0],\n",
              "       [  0,   0,   0,   0,   0,   0,   0,   0,   0,   0,   2, 141, 252,\n",
              "        252, 252,  98,   0,   0,   0,   0,   0,   0,   0,   0,   0,   0,\n",
              "          0,   0],\n",
              "       [  0,   0,   0,   0,   0,   0,   0,   0,   0,   0,  30, 252, 252,\n",
              "        252, 252, 149,   0,   0,   0,   0,   0,   0,   0,   0,   0,   0,\n",
              "          0,   0],\n",
              "       [  0,   0,   0,   0,   0,   0,   0,   0,   0,   0,  21, 217, 252,\n",
              "        252, 252, 149,   0,   0,   0,   0,   0,   0,   0,   0,   0,   0,\n",
              "          0,   0],\n",
              "       [  0,   0,   0,   0,   0,   0,   0,   0,   0,   0,   0, 134, 252,\n",
              "        252, 252, 223,  31,   0,   0,   0,   0,   0,   0,   0,   0,   0,\n",
              "          0,   0],\n",
              "       [  0,   0,   0,   0,   0,   0,   0,   0,   0,   0,   0, 134, 252,\n",
              "        252, 252, 253,  44,   0,   0,   0,   0,   0,   0,   0,   0,   0,\n",
              "          0,   0],\n",
              "       [  0,   0,   0,   0,   0,   0,   0,   0,   0,   0,   0,   8, 239,\n",
              "        252, 252, 253,  44,   0,   0,   0,   0,   0,   0,   0,   0,   0,\n",
              "          0,   0],\n",
              "       [  0,   0,   0,   0,   0,   0,   0,   0,   0,   0,   0,   0, 238,\n",
              "        252, 252, 253,  44,   0,   0,   0,   0,   0,   0,   0,   0,   0,\n",
              "          0,   0],\n",
              "       [  0,   0,   0,   0,   0,   0,   0,   0,   0,   0,   0,   0, 238,\n",
              "        252, 252, 253,  44,   0,   0,   0,   0,   0,   0,   0,   0,   0,\n",
              "          0,   0],\n",
              "       [  0,   0,   0,   0,   0,   0,   0,   0,   0,   0,   0,   0, 178,\n",
              "        253, 253, 255, 106,   0,   0,   0,   0,   0,   0,   0,   0,   0,\n",
              "          0,   0],\n",
              "       [  0,   0,   0,   0,   0,   0,   0,   0,   0,   0,   0,   0,  90,\n",
              "        252, 252, 253, 206,  21,   0,   0,   0,   0,   0,   0,   0,   0,\n",
              "          0,   0],\n",
              "       [  0,   0,   0,   0,   0,   0,   0,   0,   0,   0,   0,   0,  90,\n",
              "        252, 252, 253, 252,  88,   0,   0,   0,   0,   0,   0,   0,   0,\n",
              "          0,   0],\n",
              "       [  0,   0,   0,   0,   0,   0,   0,   0,   0,   0,   0,   0,  90,\n",
              "        252, 252, 253, 252,  88,   0,   0,   0,   0,   0,   0,   0,   0,\n",
              "          0,   0],\n",
              "       [  0,   0,   0,   0,   0,   0,   0,   0,   0,   0,   0,   0,  63,\n",
              "        234, 252, 253, 252, 220,   0,   0,   0,   0,   0,   0,   0,   0,\n",
              "          0,   0],\n",
              "       [  0,   0,   0,   0,   0,   0,   0,   0,   0,   0,   0,   0,   0,\n",
              "        176, 252, 253, 252, 237,   0,   0,   0,   0,   0,   0,   0,   0,\n",
              "          0,   0],\n",
              "       [  0,   0,   0,   0,   0,   0,   0,   0,   0,   0,   0,   0,   0,\n",
              "         45, 252, 253, 252, 245,  71,   0,   0,   0,   0,   0,   0,   0,\n",
              "          0,   0],\n",
              "       [  0,   0,   0,   0,   0,   0,   0,   0,   0,   0,   0,   0,   0,\n",
              "         29, 215, 253, 252, 237,   8,   0,   0,   0,   0,   0,   0,   0,\n",
              "          0,   0],\n",
              "       [  0,   0,   0,   0,   0,   0,   0,   0,   0,   0,   0,   0,   0,\n",
              "          0, 149, 253, 252, 237,   0,   0,   0,   0,   0,   0,   0,   0,\n",
              "          0,   0],\n",
              "       [  0,   0,   0,   0,   0,   0,   0,   0,   0,   0,   0,   0,   0,\n",
              "          0,  61, 165, 252, 237,   0,   0,   0,   0,   0,   0,   0,   0,\n",
              "          0,   0],\n",
              "       [  0,   0,   0,   0,   0,   0,   0,   0,   0,   0,   0,   0,   0,\n",
              "          0,   0,   0,   0,   0,   0,   0,   0,   0,   0,   0,   0,   0,\n",
              "          0,   0],\n",
              "       [  0,   0,   0,   0,   0,   0,   0,   0,   0,   0,   0,   0,   0,\n",
              "          0,   0,   0,   0,   0,   0,   0,   0,   0,   0,   0,   0,   0,\n",
              "          0,   0],\n",
              "       [  0,   0,   0,   0,   0,   0,   0,   0,   0,   0,   0,   0,   0,\n",
              "          0,   0,   0,   0,   0,   0,   0,   0,   0,   0,   0,   0,   0,\n",
              "          0,   0],\n",
              "       [  0,   0,   0,   0,   0,   0,   0,   0,   0,   0,   0,   0,   0,\n",
              "          0,   0,   0,   0,   0,   0,   0,   0,   0,   0,   0,   0,   0,\n",
              "          0,   0]], dtype=uint8)"
            ]
          },
          "execution_count": 7,
          "metadata": {},
          "output_type": "execute_result"
        }
      ],
      "source": [
        "x_train[9487][:,:,0]"
      ]
    },
    {
      "cell_type": "markdown",
      "metadata": {
        "id": "fKtHRImm8WXg"
      },
      "source": [
        "### 2.3 輸出格式整理\n",
        "\n",
        "和上次一樣, 我們用標準 1-hot 方式處理。"
      ]
    },
    {
      "cell_type": "code",
      "execution_count": null,
      "metadata": {
        "collapsed": true,
        "id": "E6ZhKVaP8WXh"
      },
      "outputs": [],
      "source": [
        "from keras.utils import np_utils"
      ]
    },
    {
      "cell_type": "code",
      "execution_count": null,
      "metadata": {
        "collapsed": true,
        "id": "ioPLGCYT8WXh"
      },
      "outputs": [],
      "source": [
        "y_train = np_utils.to_categorical(y_train, 10)\n",
        "y_test = np_utils.to_categorical(y_test, 10)"
      ]
    },
    {
      "cell_type": "markdown",
      "metadata": {
        "id": "-CKFgKqv8WXh"
      },
      "source": [
        "## 3. 打造你的 CNN\n",
        "\n",
        "### 3.1 決定神經網路架構、讀入相關套件\n",
        "\n",
        "CNN 我們一樣要決定用幾層的 CNN, 然後是不是每次都要做 max-pooling。再來就是拉平、送入標準神經網路 (再度要決定幾層、幾個神經元)。\n",
        "\n",
        "* 做 <span style=\"color:red;\">3</span> 次 convolution, 每次都接 max-pooling\n",
        "* filter 大小都是 <span style=\"color:red;\">3x3</span>, max-pooling 都用 <span style=\"color:red;\">2x2</span> 為一小區塊\n",
        "\n",
        "CNN 一個小技巧是每層的 filters 數目是越來越多。做完 convolution 之後, 我們要拉平、再送入一個標準的神經網路。這個神經網路設計是這樣:\n",
        "\n",
        "* 只有 <span style=\"color:red;\">1</span> 個隱藏層, 使用 <span style=\"color:red;\">200</span> 個神經元。"
      ]
    },
    {
      "cell_type": "code",
      "execution_count": null,
      "metadata": {
        "collapsed": true,
        "id": "GV8wbneA8WXi"
      },
      "outputs": [],
      "source": [
        "from keras.models import Sequential\n",
        "from keras.layers import Dense, Activation, Flatten\n",
        "from keras.layers import Conv2D, MaxPooling2D\n",
        "from keras.optimizers import SGD"
      ]
    },
    {
      "cell_type": "markdown",
      "metadata": {
        "id": "jrGFanO98WXi"
      },
      "source": [
        "### 3.2 建構我們的神經網路\n",
        "\n",
        "一開始一樣是打開個空白的神經網路。"
      ]
    },
    {
      "cell_type": "code",
      "execution_count": null,
      "metadata": {
        "collapsed": true,
        "id": "yVSwNeRb8WXi"
      },
      "outputs": [],
      "source": [
        "model = Sequential()"
      ]
    },
    {
      "cell_type": "markdown",
      "metadata": {
        "id": "cHTv5E1s8WXj"
      },
      "source": [
        "第一個隱藏層一樣要告訴 Keras 我們輸入長什麼樣子。`padding` 設成 `same` 是每個 filter 會輸出原來 28x28 一樣大小的矩陣。"
      ]
    },
    {
      "cell_type": "code",
      "execution_count": null,
      "metadata": {
        "collapsed": true,
        "id": "Rz-v0u7e8WXj"
      },
      "outputs": [],
      "source": [
        "model.add(Conv2D(32, (3, 3), padding='same', input_shape=(28,28,1)))\n",
        "model.add(Activation('relu'))"
      ]
    },
    {
      "cell_type": "markdown",
      "metadata": {
        "id": "1HfPkY858WXj"
      },
      "source": [
        "Max-Pooling!"
      ]
    },
    {
      "cell_type": "code",
      "execution_count": null,
      "metadata": {
        "collapsed": true,
        "id": "XUYAradr8WXk"
      },
      "outputs": [],
      "source": [
        "model.add(MaxPooling2D(pool_size=(2, 2)))"
      ]
    },
    {
      "cell_type": "markdown",
      "metadata": {
        "id": "etAKf3jr8WXk"
      },
      "source": [
        "第二次 Convolution!"
      ]
    },
    {
      "cell_type": "code",
      "execution_count": null,
      "metadata": {
        "collapsed": true,
        "id": "8qq7t63b8WXk"
      },
      "outputs": [],
      "source": [
        "model.add(Conv2D(64, (3, 3), padding='same'))\n",
        "model.add(Activation('relu'))"
      ]
    },
    {
      "cell_type": "markdown",
      "metadata": {
        "id": "f2a51Vf78WXk"
      },
      "source": [
        "再 Max-Pooling!"
      ]
    },
    {
      "cell_type": "code",
      "execution_count": null,
      "metadata": {
        "collapsed": true,
        "id": "r2Xwjh4S8WXk"
      },
      "outputs": [],
      "source": [
        "model.add(MaxPooling2D(pool_size=(2, 2)))"
      ]
    },
    {
      "cell_type": "markdown",
      "metadata": {
        "id": "eY9zONIl8WXl"
      },
      "source": [
        "第三次 Convolution!"
      ]
    },
    {
      "cell_type": "code",
      "execution_count": null,
      "metadata": {
        "collapsed": true,
        "id": "DRjFkNoC8WXl"
      },
      "outputs": [],
      "source": [
        "model.add(Conv2D(128, (3, 3), padding='same'))\n",
        "model.add(Activation('relu'))"
      ]
    },
    {
      "cell_type": "markdown",
      "metadata": {
        "id": "aPPqWs528WXl"
      },
      "source": [
        "Max-Pooling 最終回。"
      ]
    },
    {
      "cell_type": "code",
      "execution_count": null,
      "metadata": {
        "collapsed": true,
        "id": "GEH9qXu-8WXl"
      },
      "outputs": [],
      "source": [
        "model.add(MaxPooling2D(pool_size=(2, 2)))"
      ]
    },
    {
      "cell_type": "markdown",
      "metadata": {
        "id": "MQEigKAb8WXl"
      },
      "source": [
        "然後我們要送進一般的神經網路了。記得這是要拉平的, 還在 Keras 會幫我們做!"
      ]
    },
    {
      "cell_type": "code",
      "execution_count": null,
      "metadata": {
        "collapsed": true,
        "id": "Ep9evRSi8WXl"
      },
      "outputs": [],
      "source": [
        "model.add(Flatten())\n",
        "model.add(Dense(200))\n",
        "model.add(Activation('relu'))"
      ]
    },
    {
      "cell_type": "markdown",
      "metadata": {
        "id": "DmPfDMw08WXm"
      },
      "source": [
        "輸出和上次一樣!"
      ]
    },
    {
      "cell_type": "code",
      "execution_count": null,
      "metadata": {
        "collapsed": true,
        "id": "cQfdvowr8WXm"
      },
      "outputs": [],
      "source": [
        "model.add(Dense(10))\n",
        "model.add(Activation('softmax'))"
      ]
    },
    {
      "cell_type": "markdown",
      "metadata": {
        "id": "JkYJTIlJ8WXm"
      },
      "source": [
        "### 3.3 組裝\n",
        "\n",
        "和之前比較不一樣的是我們還要做 `compile` 才正式把我們的神經網路建好。"
      ]
    },
    {
      "cell_type": "code",
      "execution_count": null,
      "metadata": {
        "collapsed": true,
        "id": "HknOHNfX8WXm"
      },
      "outputs": [],
      "source": [
        "#model.compile(loss=\"categorical_crossentropy\",\n",
        "#              optimizer=Adadelta(),\n",
        "#              metrics=['accuracy'])"
      ]
    },
    {
      "cell_type": "code",
      "execution_count": null,
      "metadata": {
        "collapsed": true,
        "id": "TK48aEuu8WXn"
      },
      "outputs": [],
      "source": [
        "model.compile(loss='mse', optimizer=SGD(lr=0.05), metrics=['accuracy'])"
      ]
    },
    {
      "cell_type": "markdown",
      "metadata": {
        "id": "8SPgnofU8WXn"
      },
      "source": [
        "### 3.4 檢視我們的神經網路"
      ]
    },
    {
      "cell_type": "code",
      "execution_count": null,
      "metadata": {
        "id": "V-dMbAuo8WXn",
        "outputId": "4accd9e1-3dbe-4c5c-c39f-1b48fd6ef077"
      },
      "outputs": [
        {
          "name": "stdout",
          "output_type": "stream",
          "text": [
            "_________________________________________________________________\n",
            "Layer (type)                 Output Shape              Param #   \n",
            "=================================================================\n",
            "conv2d_1 (Conv2D)            (None, 28, 28, 32)        320       \n",
            "_________________________________________________________________\n",
            "activation_1 (Activation)    (None, 28, 28, 32)        0         \n",
            "_________________________________________________________________\n",
            "max_pooling2d_1 (MaxPooling2 (None, 14, 14, 32)        0         \n",
            "_________________________________________________________________\n",
            "conv2d_2 (Conv2D)            (None, 14, 14, 64)        18496     \n",
            "_________________________________________________________________\n",
            "activation_2 (Activation)    (None, 14, 14, 64)        0         \n",
            "_________________________________________________________________\n",
            "max_pooling2d_2 (MaxPooling2 (None, 7, 7, 64)          0         \n",
            "_________________________________________________________________\n",
            "conv2d_3 (Conv2D)            (None, 7, 7, 128)         73856     \n",
            "_________________________________________________________________\n",
            "activation_3 (Activation)    (None, 7, 7, 128)         0         \n",
            "_________________________________________________________________\n",
            "max_pooling2d_3 (MaxPooling2 (None, 3, 3, 128)         0         \n",
            "_________________________________________________________________\n",
            "flatten_1 (Flatten)          (None, 1152)              0         \n",
            "_________________________________________________________________\n",
            "dense_1 (Dense)              (None, 200)               230600    \n",
            "_________________________________________________________________\n",
            "activation_4 (Activation)    (None, 200)               0         \n",
            "_________________________________________________________________\n",
            "dense_2 (Dense)              (None, 10)                2010      \n",
            "_________________________________________________________________\n",
            "activation_5 (Activation)    (None, 10)                0         \n",
            "=================================================================\n",
            "Total params: 325,282\n",
            "Trainable params: 325,282\n",
            "Non-trainable params: 0\n",
            "_________________________________________________________________\n"
          ]
        }
      ],
      "source": [
        "model.summary()"
      ]
    },
    {
      "cell_type": "markdown",
      "metadata": {
        "id": "JfT8Xw8v8WXn"
      },
      "source": [
        "## 4. 訓練"
      ]
    },
    {
      "cell_type": "code",
      "execution_count": null,
      "metadata": {
        "id": "t08tgiao8WXn",
        "outputId": "b2b32d31-5033-4c86-f5a6-f5dbed22a096"
      },
      "outputs": [
        {
          "name": "stdout",
          "output_type": "stream",
          "text": [
            "Epoch 1/12\n",
            "60000/60000 [==============================] - 300s 5ms/step - loss: 0.1102 - acc: 0.4161\n",
            "Epoch 2/12\n",
            "60000/60000 [==============================] - 297s 5ms/step - loss: 0.0066 - acc: 0.9557\n",
            "Epoch 3/12\n",
            "60000/60000 [==============================] - 301s 5ms/step - loss: 0.0040 - acc: 0.9741\n",
            "Epoch 4/12\n",
            "60000/60000 [==============================] - 293s 5ms/step - loss: 0.0031 - acc: 0.9796\n",
            "Epoch 5/12\n",
            "60000/60000 [==============================] - 300s 5ms/step - loss: 0.0025 - acc: 0.9840\n",
            "Epoch 6/12\n",
            "60000/60000 [==============================] - 300s 5ms/step - loss: 0.0021 - acc: 0.9864\n",
            "Epoch 7/12\n",
            "60000/60000 [==============================] - 302s 5ms/step - loss: 0.0018 - acc: 0.9887\n",
            "Epoch 8/12\n",
            "60000/60000 [==============================] - 305s 5ms/step - loss: 0.0016 - acc: 0.9906\n",
            "Epoch 9/12\n",
            "60000/60000 [==============================] - 295s 5ms/step - loss: 0.0014 - acc: 0.9920\n",
            "Epoch 10/12\n",
            "60000/60000 [==============================] - 300s 5ms/step - loss: 0.0012 - acc: 0.9926\n",
            "Epoch 11/12\n",
            "60000/60000 [==============================] - 301s 5ms/step - loss: 0.0011 - acc: 0.9935\n",
            "Epoch 12/12\n",
            "60000/60000 [==============================] - 301s 5ms/step - loss: 9.4547e-04 - acc: 0.9946\n"
          ]
        },
        {
          "data": {
            "text/plain": [
              "<keras.callbacks.History at 0x103fd70b8>"
            ]
          },
          "execution_count": 23,
          "metadata": {},
          "output_type": "execute_result"
        }
      ],
      "source": [
        "model.fit(x_train, y_train, batch_size=100, epochs=12)"
      ]
    },
    {
      "cell_type": "markdown",
      "metadata": {
        "collapsed": true,
        "id": "tmhcUPGQ8WXo"
      },
      "source": [
        "## 5. 結果測試"
      ]
    },
    {
      "cell_type": "markdown",
      "metadata": {
        "id": "it_xt9dN8WXo"
      },
      "source": [
        "### 5.1 分數"
      ]
    },
    {
      "cell_type": "code",
      "execution_count": null,
      "metadata": {
        "id": "z6M6e6zT8WXo",
        "outputId": "1a3156d1-209e-4fb6-9dc6-f6ce0360d83b"
      },
      "outputs": [
        {
          "name": "stdout",
          "output_type": "stream",
          "text": [
            "10000/10000 [==============================] - 23s 2ms/step\n"
          ]
        }
      ],
      "source": [
        "score = model.evaluate(x_test, y_test)"
      ]
    },
    {
      "cell_type": "code",
      "execution_count": null,
      "metadata": {
        "id": "OtbzM_RG8WXo",
        "outputId": "3804183a-f6ee-42a7-d4c3-79c094bcd616"
      },
      "outputs": [
        {
          "name": "stdout",
          "output_type": "stream",
          "text": [
            "測試資料的 loss: 0.00221789917492\n",
            "測試資料正確率: 0.9853\n"
          ]
        }
      ],
      "source": [
        "print('測試資料的 loss:', score[0])\n",
        "print('測試資料正確率:', score[1])"
      ]
    },
    {
      "cell_type": "markdown",
      "metadata": {
        "collapsed": true,
        "id": "jlaBYMfl8WXo"
      },
      "source": [
        "### 5.2 儲存結果\n",
        "\n",
        "結果看來還不差, 所以我們把結果存起來。"
      ]
    },
    {
      "cell_type": "code",
      "execution_count": null,
      "metadata": {
        "collapsed": true,
        "id": "pSyFJkKL8WXp"
      },
      "outputs": [],
      "source": [
        "model_json = model.to_json()\n",
        "open('handwriting_model_cnn.json', 'w').write(model_json)\n",
        "model.save_weights('handwriting_weights_cnn.h5')"
      ]
    },
    {
      "cell_type": "markdown",
      "metadata": {
        "collapsed": true,
        "id": "lGfo2XUx8WXp"
      },
      "source": [
        "### 5.3 欣賞一下成果\n",
        "\n",
        "我們用另一個方式: 每次選 5 個顯示, 看是不是有正確辨識。"
      ]
    },
    {
      "cell_type": "code",
      "execution_count": null,
      "metadata": {
        "collapsed": true,
        "id": "1lHRMrwe8WXp"
      },
      "outputs": [],
      "source": [
        "predict = model.predict_classes(x_test)"
      ]
    },
    {
      "cell_type": "code",
      "execution_count": null,
      "metadata": {
        "id": "bU2uH6ss8WXp",
        "outputId": "5a94aa81-a38f-4813-c48c-9a9cfb89607f"
      },
      "outputs": [
        {
          "data": {
            "image/png": "[encoded data removed]",
            "text/plain": [
              "<matplotlib.figure.Figure at 0x10640b048>"
            ]
          },
          "metadata": {},
          "output_type": "display_data"
        }
      ],
      "source": [
        "pick = np.random.randint(1,9999, 5)\n",
        "\n",
        "for i in range(5):\n",
        "    plt.subplot(1,5,i+1)\n",
        "    plt.imshow(x_test[pick[i]].reshape(28,28), cmap='Greys')\n",
        "    plt.title(predict[pick[i]])\n",
        "    plt.axis(\"off\")"
      ]
    },
    {
      "cell_type": "markdown",
      "metadata": {
        "id": "DuG4AJdP8WXp"
      },
      "source": [
        "## 5.4 小結論\n",
        "\n",
        "我們到此, 基本上是「亂做」的神經網路。有些同學在不斷試驗的過程中, 可能會發現有時會出現很糟糕的結果。因此, 接下來我們要介紹怎麼樣用些簡單的手法, 能讓學習效果比較穩定, 而且有可能可以增加學習效率。"
      ]
    }
  ],
  "metadata": {
    "anaconda-cloud": {},
    "kernelspec": {
      "display_name": "Python [conda env:tensorflow]",
      "language": "python",
      "name": "conda-env-tensorflow-py"
    },
    "language_info": {
      "codemirror_mode": {
        "name": "ipython",
        "version": 3
      },
      "file_extension": ".py",
      "mimetype": "text/x-python",
      "name": "python",
      "nbconvert_exporter": "python",
      "pygments_lexer": "ipython3",
      "version": "3.6.4"
    },
    "colab": {
      "name": "02-1. 用CNN圖形辨識（還是MNIST）.ipynb",
      "provenance": []
    }
  },
  "nbformat": 4,
  "nbformat_minor": 0
}