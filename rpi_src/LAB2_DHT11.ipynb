{
 "cells": [
  {
   "cell_type": "markdown",
   "metadata": {},
   "source": [
    "![RPI DHT11](images/rpi_dht11_bb.jpg)"
   ]
  },
  {
   "cell_type": "markdown",
   "metadata": {},
   "source": [
    "[參考網頁](https://blog.everlearn.tw/%E7%95%B6-python-%E9%81%87%E4%B8%8A-raspberry-pi/raspberry-pi-3-model-b-%E8%88%87-dht11-%E6%BA%AB%E6%BA%BC%E5%BA%A6%E6%84%9F%E6%87%89%E5%99%A8%E4%B9%8B%E6%87%89%E7%94%A8)"
   ]
  },
  {
   "cell_type": "code",
   "execution_count": 1,
   "metadata": {},
   "outputs": [
    {
     "name": "stdout",
     "output_type": "stream",
     "text": [
      "按下 Ctrl-C 可停止程式\n",
      "溫度=28.0度C 濕度=78.0%\n",
      "溫度=28.0度C 濕度=75.0%\n",
      "關閉程式\n"
     ]
    }
   ],
   "source": [
    "import time\n",
    "import Adafruit_DHT\n",
    "\n",
    "GPIO_PIN = 4\n",
    "\n",
    "try:\n",
    "    print('按下 Ctrl-C 可停止程式')\n",
    "    while True:\n",
    "        h, t = Adafruit_DHT.read_retry(Adafruit_DHT.DHT11, GPIO_PIN)\n",
    "        if h is not None and t is not None:\n",
    "            print('溫度={0:0.1f}度C 濕度={1:0.1f}%'.format(t, h))\n",
    "        else:\n",
    "            print('讀取失敗，重新讀取。')\n",
    "        time.sleep(10)\n",
    "except KeyboardInterrupt:\n",
    "    print('關閉程式')"
   ]
  },
  {
   "cell_type": "code",
   "execution_count": null,
   "metadata": {},
   "outputs": [],
   "source": []
  }
 ],
 "metadata": {
  "kernelspec": {
   "display_name": "Python 3",
   "language": "python",
   "name": "python3"
  },
  "language_info": {
   "codemirror_mode": {
    "name": "ipython",
    "version": 3
   },
   "file_extension": ".py",
   "mimetype": "text/x-python",
   "name": "python",
   "nbconvert_exporter": "python",
   "pygments_lexer": "ipython3",
   "version": "3.7.3"
  }
 },
 "nbformat": 4,
 "nbformat_minor": 2
}
