{
 "cells": [
  {
   "cell_type": "code",
   "execution_count": null,
   "metadata": {},
   "outputs": [],
   "source": [
    "import RPi.GPIO as GPIO\n",
    "import time"
   ]
  },
  {
   "cell_type": "code",
   "execution_count": null,
   "metadata": {},
   "outputs": [],
   "source": [
    "GPIO.setmode(GPIO.BCM)"
   ]
  },
  {
   "cell_type": "code",
   "execution_count": null,
   "metadata": {},
   "outputs": [],
   "source": [
    "GPIO.setup(3, GPIO.OUT)"
   ]
  },
  {
   "cell_type": "code",
   "execution_count": null,
   "metadata": {},
   "outputs": [],
   "source": [
    "\n",
    "for i in range(10):\n",
    "    GPIO.output(3, GPIO.HIGH)\n",
    "    time.sleep(1)\n",
    "    GPIO.output(3, GPIO.LOW)\n",
    "    time.sleep(1)"
   ]
  },
  {
   "cell_type": "code",
   "execution_count": null,
   "metadata": {},
   "outputs": [],
   "source": [
    "import time\n",
    "import Adafruit_DHT\n",
    " \n",
    "GPIO_PIN = 2\n",
    " \n",
    "try:\n",
    "    print('按下 Ctrl-C 可停止程式')\n",
    "    while True:\n",
    "        h, t = Adafruit_DHT.read_retry(Adafruit_DHT.DHT11, GPIO_PIN)\n",
    "        if h is not None and t is not None:\n",
    "            print('溫度={0:0.1f}度C 濕度={1:0.1f}%'.format(t, h))\n",
    "        else:\n",
    "            print('讀取失敗，重新讀取。')\n",
    "        time.sleep(10)\n",
    "except KeyboardInterrupt:\n",
    "    print('關閉程式')"
   ]
  },
  {
   "cell_type": "code",
   "execution_count": null,
   "metadata": {},
   "outputs": [],
   "source": [
    "import sys\n",
    "print(sys.executable)"
   ]
  },
  {
   "cell_type": "code",
   "execution_count": null,
   "metadata": {},
   "outputs": [],
   "source": [
    "import time\n",
    "import RPi.GPIO as GPIO\n",
    "from ipykernel import kernelapp as app\n",
    "\n",
    "BUTTON_PIN = 18\n",
    "LED_PIN = 3\n",
    "\n",
    "def my_callback(channel):\n",
    "    print('按下按鈕')\n",
    "    GPIO.output(LED_PIN, GPIO.HIGH)\n",
    "    time.sleep(0.1)\n",
    "    GPIO.output(LED_PIN, GPIO.LOW)\n",
    "\n",
    "GPIO.setmode(GPIO.BCM)\n",
    "GPIO.setup(BUTTON_PIN, GPIO.IN, pull_up_down=GPIO.PUD_UP)\n",
    "GPIO.setup(LED_PIN, GPIO.OUT)\n",
    "\n",
    "try:\n",
    "    print('按下 Ctrl-C 可停止程式')\n",
    "    while True:\n",
    "        if GPIO.input(BUTTON_PIN) == GPIO.LOW:\n",
    "            my_callback(BUTTON_PIN)\n",
    "        time.sleep(0.25)\n",
    "except KeyboardInterrupt:\n",
    "    print('關閉程式')\n",
    "finally:\n",
    "    GPIO.cleanup()"
   ]
  },
  {
   "cell_type": "code",
   "execution_count": 2,
   "metadata": {},
   "outputs": [
    {
     "name": "stdout",
     "output_type": "stream",
     "text": [
      "按下 Ctrl-C 可停止程式\n",
      "關閉程式\n"
     ]
    }
   ],
   "source": [
    "import time\n",
    "import RPi.GPIO as GPIO\n",
    "\n",
    "BUTTON_PIN = 18\n",
    "LED_PIN = 3\n",
    "\n",
    "def my_callback(channel):\n",
    "    print('按下按鈕')\n",
    "    GPIO.output(LED_PIN, GPIO.HIGH)\n",
    "    time.sleep(0.1)\n",
    "    GPIO.output(LED_PIN, GPIO.LOW)\n",
    "\n",
    "GPIO.setmode(GPIO.BCM)\n",
    "GPIO.setup(BUTTON_PIN, GPIO.IN, pull_up_down=GPIO.PUD_UP)\n",
    "GPIO.setup(LED_PIN, GPIO.OUT)\n",
    "GPIO.add_event_detect(BUTTON_PIN, GPIO.FALLING, callback=my_callback, bouncetime=250)\n",
    "\n",
    "try:\n",
    "    print('按下 Ctrl-C 可停止程式')\n",
    "    while True:\n",
    "        time.sleep(1)\n",
    "except KeyboardInterrupt:\n",
    "    print('關閉程式')\n",
    "finally:\n",
    "    GPIO.cleanup()"
   ]
  },
  {
   "cell_type": "code",
   "execution_count": null,
   "metadata": {},
   "outputs": [],
   "source": []
  }
 ],
 "metadata": {
  "kernelspec": {
   "display_name": "Python 3",
   "language": "python",
   "name": "python3"
  },
  "language_info": {
   "codemirror_mode": {
    "name": "ipython",
    "version": 3
   },
   "file_extension": ".py",
   "mimetype": "text/x-python",
   "name": "python",
   "nbconvert_exporter": "python",
   "pygments_lexer": "ipython3",
   "version": "3.5.3"
  }
 },
 "nbformat": 4,
 "nbformat_minor": 2
}
