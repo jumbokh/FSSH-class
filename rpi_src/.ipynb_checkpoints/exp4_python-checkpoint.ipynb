{
 "cells": [
  {
   "cell_type": "markdown",
   "metadata": {},
   "source": [
    "單元4 Python 程式語言實作"
   ]
  },
  {
   "cell_type": "markdown",
   "metadata": {},
   "source": [
    "實作01：輸出print指令練習"
   ]
  },
  {
   "cell_type": "code",
   "execution_count": null,
   "metadata": {},
   "outputs": [],
   "source": [
    "a = 33\n",
    "b = 6.8\n",
    "c = \"abc\"\n",
    "d = '123'\n",
    "print(\"Hello\")\n",
    "print(a)\n",
    "print(a+b)\n",
    "print(c+d)\n",
    "print(\"A\",\"B\",\"C\",\"D\")\n",
    "print(\"A\",\"B\",\"C\",\"D\", sep = \"\")\n",
    "print(\"A\",\"B\",\"C\",\"D\", sep = \"|\")"
   ]
  },
  {
   "cell_type": "markdown",
   "metadata": {},
   "source": [
    "實作02：各種數學運算子練習"
   ]
  },
  {
   "cell_type": "code",
   "execution_count": null,
   "metadata": {},
   "outputs": [],
   "source": [
    "a=11\n",
    "b=3.8\n",
    "print(a+b)\n",
    "print(a-b)\n",
    "print(b*2)\n",
    "print(b/2)\n",
    "print(a<<1)\n",
    "print(a>>1)\n",
    "print(a%3)\n",
    "print(a//3)\n",
    "print(a**2)"
   ]
  },
  {
   "cell_type": "markdown",
   "metadata": {},
   "source": [
    "練習：利用 python 計算 ($2^{3}$+$3^{2}$)*4 = ?"
   ]
  },
  {
   "cell_type": "code",
   "execution_count": null,
   "metadata": {},
   "outputs": [],
   "source": [
    "print((pow(2,3)+pow(3,2))*4)"
   ]
  },
  {
   "cell_type": "code",
   "execution_count": null,
   "metadata": {},
   "outputs": [],
   "source": [
    "print((2**3+3**2)*4)"
   ]
  },
  {
   "cell_type": "markdown",
   "metadata": {},
   "source": [
    "實作 03：輸入 input 指令練習"
   ]
  },
  {
   "cell_type": "code",
   "execution_count": null,
   "metadata": {},
   "outputs": [],
   "source": [
    "a = input(\"Input a=\")\n",
    "b = input(\"Input b=\")\n",
    "print(a)\n",
    "print(b)\n",
    "print(a+b)"
   ]
  },
  {
   "cell_type": "markdown",
   "metadata": {},
   "source": [
    "實作04：範圍range指令練習"
   ]
  },
  {
   "cell_type": "code",
   "execution_count": null,
   "metadata": {},
   "outputs": [],
   "source": [
    "a = range(10)\n",
    "print(a)\n",
    "b = range(2,6)\n",
    "print(b)\n",
    "c = range(0,6,2)\n",
    "print(c)\n",
    "d = range(6,0,-2)\n",
    "print(d)\n",
    "print(d[0])\n",
    "print(d[1])\n",
    "print(d[2])"
   ]
  },
  {
   "cell_type": "markdown",
   "metadata": {},
   "source": [
    "練習：想設定為：10、20、30、40、50，則range該如何指定?"
   ]
  },
  {
   "cell_type": "code",
   "execution_count": null,
   "metadata": {},
   "outputs": [],
   "source": [
    "x = list(range(10,60,10))\n",
    "print(x)"
   ]
  },
  {
   "cell_type": "markdown",
   "metadata": {},
   "source": [
    "實作05：for迴圈+range練習"
   ]
  },
  {
   "cell_type": "code",
   "execution_count": null,
   "metadata": {},
   "outputs": [],
   "source": [
    "for a in range(6):\n",
    "    print(a,end=\" \")\n",
    "print(\"\")\n",
    "#------------------------\n",
    "for b in range(1,6,2):\n",
    "    print(b, end=\" \")\n",
    "print(\"\")\n",
    "#------------------------\n",
    "for c in range(2,6):\n",
    "    print(c, end=\" \")\n",
    "print(\"\")\n",
    "#------------------------\n",
    "for d in range(6,1,-2):\n",
    "    print(d, end=\" \")"
   ]
  },
  {
   "cell_type": "markdown",
   "metadata": {},
   "source": [
    "練習：range指令格式為 變數名稱 = range(初值，終值，遞增值)，  \n",
    "如果省略遞增值，則預設值為1，但如果是 range(6,1)時，輸出結果為何？"
   ]
  },
  {
   "cell_type": "code",
   "execution_count": null,
   "metadata": {},
   "outputs": [],
   "source": [
    "print(list(range(6,1)))"
   ]
  },
  {
   "cell_type": "markdown",
   "metadata": {},
   "source": [
    "實作06：for 迴圈 + in 指令練習"
   ]
  },
  {
   "cell_type": "code",
   "execution_count": null,
   "metadata": {},
   "outputs": [],
   "source": [
    "fruits = ['banana', 'apple', 'watermelon']\n",
    "for a in fruits:\n",
    "    print(a)\n",
    "print(fruits[0], fruits[1], fruits[2])\n",
    "#------------------------------------------\n",
    "b = [123, 456, 789]\n",
    "for a in b:\n",
    "    print(a)\n",
    "print(b[0], b[1], b[2])"
   ]
  },
  {
   "cell_type": "markdown",
   "metadata": {},
   "source": [
    "實作07：雙for迴圈練習_九九乘法表"
   ]
  },
  {
   "cell_type": "code",
   "execution_count": null,
   "metadata": {},
   "outputs": [],
   "source": [
    "for x in range(1,10):\n",
    "    for y in range(1,10):\n",
    "        s = str(x) + \"*\" + str(y) + \"=\" + str(x*y)\n",
    "        print(s.ljust(7,\" \"), end=\"\")\n",
    "    print(\"\")"
   ]
  },
  {
   "cell_type": "markdown",
   "metadata": {},
   "source": [
    "實作08：while 迴圈基礎練習"
   ]
  },
  {
   "cell_type": "code",
   "execution_count": null,
   "metadata": {},
   "outputs": [],
   "source": [
    "a = 0\n",
    "while a < 6:\n",
    "    print(a, end=\" \")\n",
    "    a = a + 1\n",
    "print(\"\")\n",
    "#----------------------\n",
    "b = 1\n",
    "while b < 6:\n",
    "    print(b, end=\" \")\n",
    "    b = b + 2\n",
    "print(\"\")\n",
    "#----------------------\n",
    "c = 2\n",
    "while c < 6:\n",
    "    print(c, end=\" \")\n",
    "    c = c + 1\n",
    "print(\"\")\n",
    "#----------------------\n",
    "d = 6\n",
    "while d > 1:\n",
    "    print(d, end=\" \")\n",
    "    d = d - 2"
   ]
  },
  {
   "cell_type": "code",
   "execution_count": null,
   "metadata": {},
   "outputs": [],
   "source": [
    "for a in range(6):\n",
    "    print(a, end=\" \")\n",
    "print(\"\")\n",
    "#---------------------\n",
    "for b in range(1,6,2):\n",
    "    print(b, end=\" \")\n",
    "print(\"\")\n",
    "#---------------------\n",
    "for c in range(2,6):\n",
    "    print(c, end=\" \")\n",
    "print(\"\")\n",
    "#---------------------\n",
    "for d in range(6,1,-2):\n",
    "    print(d, end = \" \")"
   ]
  },
  {
   "cell_type": "markdown",
   "metadata": {},
   "source": [
    "練習：將上述程式碼前三項遞增 while 迴圈，均改為遞減while迴圈，但範圍保持不變"
   ]
  },
  {
   "cell_type": "code",
   "execution_count": null,
   "metadata": {},
   "outputs": [],
   "source": [
    "a = 5\n",
    "while a > -1:\n",
    "    print(a, end=\" \")\n",
    "    a = a - 1\n",
    "print(\"\")\n",
    "#----------------------\n",
    "b = 5\n",
    "while b > 0:\n",
    "    print(b, end=\" \")\n",
    "    b = b - 2\n",
    "print(\"\")\n",
    "#----------------------\n",
    "c = 5\n",
    "while c > 1:\n",
    "    print(c, end=\" \")\n",
    "    c = c - 1\n",
    "print(\"\")"
   ]
  },
  {
   "cell_type": "markdown",
   "metadata": {},
   "source": [
    "實作09：for與while迴圈對照比較練習"
   ]
  },
  {
   "cell_type": "code",
   "execution_count": null,
   "metadata": {},
   "outputs": [],
   "source": [
    "sum = 0\n",
    "x = 1\n",
    "while x < 11:\n",
    "    sum = sum + x\n",
    "    x = x + 2\n",
    "print(\"1+3+5+7+9=\",sum)\n",
    "#----------------------\n",
    "sum = 0\n",
    "for x in range(1,11,2):\n",
    "    sum = sum + x\n",
    "print(\"1+3+5+7+9=\",sum)"
   ]
  },
  {
   "cell_type": "markdown",
   "metadata": {},
   "source": [
    "練習：利用 while 與 for 迴圈計算 5x4x3x2x1=?"
   ]
  },
  {
   "cell_type": "code",
   "execution_count": null,
   "metadata": {},
   "outputs": [],
   "source": []
  },
  {
   "cell_type": "markdown",
   "metadata": {},
   "source": [
    "實作10：雙while迴圈練習_九九乘法表"
   ]
  },
  {
   "cell_type": "code",
   "execution_count": null,
   "metadata": {},
   "outputs": [],
   "source": [
    "x = 0\n",
    "while x <9:\n",
    "    x = x + 1\n",
    "    y = 1\n",
    "    while y < 10:\n",
    "        s = str(x) + \"*\" + str(y) + \"=\" + str(x + y)\n",
    "        print(s.ljust(7, \" \"), end=\"\")\n",
    "        y = y + 1\n",
    "    print(\"\")"
   ]
  },
  {
   "cell_type": "code",
   "execution_count": null,
   "metadata": {},
   "outputs": [],
   "source": [
    "for x in range(1,10):\n",
    "    for y in range(1,10):\n",
    "        s = str(x) + \"*\" + str(y) + \"=\" + str(x * y)\n",
    "        print(s.ljust(7, \" \"), end=\"\")\n",
    "    print(\"\")"
   ]
  },
  {
   "cell_type": "markdown",
   "metadata": {},
   "source": [
    "練習： 修改上述 while 雙迴圈程式碼，使每行僅顯示3個運算式"
   ]
  },
  {
   "cell_type": "code",
   "execution_count": null,
   "metadata": {},
   "outputs": [],
   "source": []
  },
  {
   "cell_type": "code",
   "execution_count": null,
   "metadata": {},
   "outputs": [],
   "source": []
  }
 ],
 "metadata": {
  "kernelspec": {
   "display_name": "Python 3",
   "language": "python",
   "name": "python3"
  },
  "language_info": {
   "codemirror_mode": {
    "name": "ipython",
    "version": 3
   },
   "file_extension": ".py",
   "mimetype": "text/x-python",
   "name": "python",
   "nbconvert_exporter": "python",
   "pygments_lexer": "ipython3",
   "version": "3.5.3"
  }
 },
 "nbformat": 4,
 "nbformat_minor": 2
}
