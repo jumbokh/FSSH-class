{
 "cells": [
  {
   "cell_type": "code",
   "execution_count": null,
   "metadata": {},
   "outputs": [],
   "source": [
    "from gpiozero import LED\n",
    "from time import sleep"
   ]
  },
  {
   "cell_type": "code",
   "execution_count": null,
   "metadata": {},
   "outputs": [],
   "source": [
    "red = LED(2)"
   ]
  },
  {
   "cell_type": "code",
   "execution_count": null,
   "metadata": {},
   "outputs": [],
   "source": [
    "a = 5\n",
    "while a>0:\n",
    "    print(\"LOW\",end=' ')\n",
    "    red.off()\n",
    "    sleep(0.2)\n",
    "    print(\"HIGH\")\n",
    "    red.on()\n",
    "    sleep(0.2)\n",
    "    a-=1"
   ]
  },
  {
   "cell_type": "code",
   "execution_count": 1,
   "metadata": {},
   "outputs": [],
   "source": [
    "import RPi.GPIO as GPIO\n",
    "import time"
   ]
  },
  {
   "cell_type": "code",
   "execution_count": 3,
   "metadata": {},
   "outputs": [
    {
     "name": "stdout",
     "output_type": "stream",
     "text": [
      "HIGH LOW\n",
      "HIGH LOW\n",
      "HIGH LOW\n",
      "HIGH LOW\n",
      "HIGH LOW\n"
     ]
    }
   ],
   "source": [
    "LED_PIN = 2\n",
    "GPIO.setmode(GPIO.BCM)\n",
    "GPIO.setup(LED_PIN,GPIO.OUT)\n",
    "a = 5\n",
    "while a>0:\n",
    "    print(\"HIGH\",end=' ')\n",
    "    GPIO.output(LED_PIN,GPIO.HIGH)\n",
    "    time.sleep(0.2)\n",
    "    print(\"LOW\")\n",
    "    GPIO.output(LED_PIN,GPIO.LOW)\n",
    "    time.sleep(0.2)\n",
    "    a-=1\n",
    "GPIO.output(LED_PIN,GPIO.LOW)\n",
    "GPIO.cleanup()"
   ]
  },
  {
   "cell_type": "markdown",
   "metadata": {},
   "source": [
    "![LED腳位](./images/led_pi_bb.jpg)"
   ]
  },
  {
   "cell_type": "code",
   "execution_count": null,
   "metadata": {},
   "outputs": [],
   "source": []
  }
 ],
 "metadata": {
  "kernelspec": {
   "display_name": "Python 3",
   "language": "python",
   "name": "python3"
  },
  "language_info": {
   "codemirror_mode": {
    "name": "ipython",
    "version": 3
   },
   "file_extension": ".py",
   "mimetype": "text/x-python",
   "name": "python",
   "nbconvert_exporter": "python",
   "pygments_lexer": "ipython3",
   "version": "3.5.3"
  }
 },
 "nbformat": 4,
 "nbformat_minor": 2
}
