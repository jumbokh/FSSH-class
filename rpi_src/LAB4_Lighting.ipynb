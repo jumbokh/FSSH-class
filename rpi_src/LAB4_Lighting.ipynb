{
 "cells": [
  {
   "cell_type": "markdown",
   "metadata": {},
   "source": [
    "[參考網站](https://pimylifeup.com/raspberry-pi-light-sensor/)"
   ]
  },
  {
   "cell_type": "markdown",
   "metadata": {},
   "source": [
    "![pi pinout](pi-pinout-diagram-01.png)"
   ]
  },
  {
   "cell_type": "markdown",
   "metadata": {},
   "source": [
    "![光敏電阻偵測光源](photocell_rc_bb.png)"
   ]
  },
  {
   "cell_type": "code",
   "execution_count": 1,
   "metadata": {},
   "outputs": [
    {
     "name": "stdout",
     "output_type": "stream",
     "text": [
      "448893\n",
      "466165\n",
      "465996\n",
      "1628261\n",
      "1076103\n",
      "485733\n",
      "476294\n",
      "474923\n",
      "565824\n",
      "405617\n",
      "105457\n",
      "101720\n",
      "92942\n",
      "95300\n",
      "95475\n",
      "95059\n",
      "96162\n",
      "96378\n",
      "95790\n",
      "95157\n",
      "94394\n",
      "93815\n",
      "93479\n",
      "92976\n",
      "92211\n",
      "91788\n",
      "90693\n",
      "90212\n",
      "89399\n",
      "88488\n",
      "87969\n",
      "87396\n",
      "86140\n",
      "85327\n",
      "151191\n",
      "102564\n",
      "108821\n",
      "107314\n",
      "110642\n",
      "612291\n"
     ]
    }
   ],
   "source": [
    "import RPi.GPIO as GPIO\n",
    "import time\n",
    "\n",
    "__author__ = 'Gus (Adapted from Adafruit)'\n",
    "__license__ = \"GPL\"\n",
    "__maintainer__ = \"pimylifeup.com\"\n",
    "\n",
    "GPIO.setmode(GPIO.BOARD)\n",
    "\n",
    "#define the pin that goes to the circuit\n",
    "pin_to_circuit = 7\n",
    "\n",
    "def rc_time (pin_to_circuit):\n",
    "    count = 0\n",
    "  \n",
    "    #Output on the pin for \n",
    "    GPIO.setup(pin_to_circuit, GPIO.OUT)\n",
    "    GPIO.output(pin_to_circuit, GPIO.LOW)\n",
    "    time.sleep(0.1)\n",
    "\n",
    "    #Change the pin back to input\n",
    "    GPIO.setup(pin_to_circuit, GPIO.IN)\n",
    "  \n",
    "    #Count until the pin goes high\n",
    "    while (GPIO.input(pin_to_circuit) == GPIO.LOW):\n",
    "        count += 1\n",
    "\n",
    "    return count\n",
    "\n",
    "#Catch when script is interupted, cleanup correctly\n",
    "try:\n",
    "    # Main loop\n",
    "    while True:\n",
    "        print(rc_time(pin_to_circuit))\n",
    "except KeyboardInterrupt:\n",
    "    pass\n",
    "finally:\n",
    "    GPIO.cleanup()"
   ]
  },
  {
   "cell_type": "code",
   "execution_count": 6,
   "metadata": {},
   "outputs": [
    {
     "name": "stdout",
     "output_type": "stream",
     "text": [
      "  850146  749667  756449  984693  60584  60680  60866  61219  62219  61901  61904  62249  61869  61796  61777  61710  60754  61255  60602  60190  60284  59529  59705  59689  59250  58990  59213  57819  58164  58555  57946  57798  58040  71186  61249  68574  76087  74082  876996  745729"
     ]
    }
   ],
   "source": [
    "import RPi.GPIO as GPIO\n",
    "import time\n",
    "\n",
    "GPIO.setmode(GPIO.BOARD)\n",
    "\n",
    "#define the pin that goes to the circuit\n",
    "pin_to_circuit = 7\n",
    "led_pin = 3 # GPIO2\n",
    "\n",
    "def rc_time (pin_to_circuit):\n",
    "    count = 0\n",
    "  \n",
    "    #Output on the pin for \n",
    "    GPIO.setup(pin_to_circuit, GPIO.OUT)\n",
    "    GPIO.output(pin_to_circuit, GPIO.LOW)\n",
    "    time.sleep(0.1)\n",
    "\n",
    "    #Change the pin back to input\n",
    "    GPIO.setup(pin_to_circuit, GPIO.IN)\n",
    "  \n",
    "    #Count until the pin goes high\n",
    "    while (GPIO.input(pin_to_circuit) == GPIO.LOW):\n",
    "        count += 1\n",
    "\n",
    "    return count\n",
    "\n",
    "#Catch when script is interupted, cleanup correctly\n",
    "GPIO.setup(led_pin, GPIO.OUT)\n",
    "GPIO.output(led_pin, GPIO.LOW)\n",
    "try:\n",
    "    # Main loop\n",
    "    while True:\n",
    "        light = rc_time(pin_to_circuit)\n",
    "        print(' ',light,end='')\n",
    "        if light>60000:\n",
    "            GPIO.output(led_pin, GPIO.HIGH)\n",
    "        else:\n",
    "            GPIO.output(led_pin, GPIO.LOW)\n",
    "except KeyboardInterrupt:\n",
    "    pass\n",
    "finally:\n",
    "    GPIO.cleanup()"
   ]
  },
  {
   "cell_type": "code",
   "execution_count": null,
   "metadata": {},
   "outputs": [],
   "source": []
  }
 ],
 "metadata": {
  "kernelspec": {
   "display_name": "Python 3",
   "language": "python",
   "name": "python3"
  },
  "language_info": {
   "codemirror_mode": {
    "name": "ipython",
    "version": 3
   },
   "file_extension": ".py",
   "mimetype": "text/x-python",
   "name": "python",
   "nbconvert_exporter": "python",
   "pygments_lexer": "ipython3",
   "version": "3.5.3"
  }
 },
 "nbformat": 4,
 "nbformat_minor": 2
}
