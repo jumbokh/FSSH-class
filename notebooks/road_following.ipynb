{
  "cells": [
    {
      "cell_type": "markdown",
      "metadata": {
        "id": "B6wHsJCM-HCf"
      },
      "source": [
        "First, create the model. This must match the model used in the interactive training notebook."
      ]
    },
    {
      "cell_type": "code",
      "execution_count": null,
      "metadata": {
        "id": "FP9a2Wiq-HCk"
      },
      "outputs": [],
      "source": [
        "import torch\n",
        "import torchvision\n",
        "\n",
        "CATEGORIES = ['apex']\n",
        "\n",
        "device = torch.device('cuda')\n",
        "model = torchvision.models.resnet18(pretrained=False)\n",
        "model.fc = torch.nn.Linear(512, 2 * len(CATEGORIES))\n",
        "model = model.cuda().eval().half()"
      ]
    },
    {
      "cell_type": "markdown",
      "metadata": {
        "id": "cBglawRc-HCm"
      },
      "source": [
        "Next, load the saved model.  Enter the model path you used to save."
      ]
    },
    {
      "cell_type": "code",
      "execution_count": null,
      "metadata": {
        "id": "aNw0JvpO-HCm"
      },
      "outputs": [],
      "source": [
        "model.load_state_dict(torch.load('road_following_model.pth'))"
      ]
    },
    {
      "cell_type": "markdown",
      "metadata": {
        "id": "rRi4x1s5-HCn"
      },
      "source": [
        "Convert and optimize the model using ``torch2trt`` for faster inference with TensorRT.  Please see the [torch2trt](https://github.com/NVIDIA-AI-IOT/torch2trt) readme for more details.\n",
        "\n",
        "> This optimization process can take a couple minutes to complete. "
      ]
    },
    {
      "cell_type": "code",
      "execution_count": null,
      "metadata": {
        "id": "63MVnD5C-HCn"
      },
      "outputs": [],
      "source": [
        "from torch2trt import torch2trt\n",
        "\n",
        "data = torch.zeros((1, 3, 224, 224)).cuda().half()\n",
        "\n",
        "model_trt = torch2trt(model, [data], fp16_mode=True)"
      ]
    },
    {
      "cell_type": "markdown",
      "metadata": {
        "id": "wsq9sO5w-HCo"
      },
      "source": [
        "Save the optimized model using the cell below"
      ]
    },
    {
      "cell_type": "code",
      "execution_count": null,
      "metadata": {
        "id": "KWMFP1TI-HCp"
      },
      "outputs": [],
      "source": [
        "torch.save(model_trt.state_dict(), 'road_following_model_trt.pth')"
      ]
    },
    {
      "cell_type": "markdown",
      "metadata": {
        "id": "9T8SdSQ1-HCp"
      },
      "source": [
        "Load the optimized model by executing the cell below"
      ]
    },
    {
      "cell_type": "code",
      "execution_count": null,
      "metadata": {
        "id": "AUSIxjUv-HCq"
      },
      "outputs": [],
      "source": [
        "import torch\n",
        "from torch2trt import TRTModule\n",
        "\n",
        "model_trt = TRTModule()\n",
        "model_trt.load_state_dict(torch.load('road_following_model_trt.pth'))"
      ]
    },
    {
      "cell_type": "markdown",
      "metadata": {
        "id": "rEjEjRYQ-HCq"
      },
      "source": [
        "Create the racecar class"
      ]
    },
    {
      "cell_type": "code",
      "execution_count": null,
      "metadata": {
        "id": "Sn4XYk2f-HCq"
      },
      "outputs": [],
      "source": [
        "from jetracer.nvidia_racecar import NvidiaRacecar\n",
        "\n",
        "car = NvidiaRacecar()"
      ]
    },
    {
      "cell_type": "markdown",
      "metadata": {
        "id": "ZAvvcrtC-HCr"
      },
      "source": [
        "Create the camera class."
      ]
    },
    {
      "cell_type": "code",
      "execution_count": null,
      "metadata": {
        "id": "-0w7v-VX-HCr"
      },
      "outputs": [],
      "source": [
        "from jetcam.csi_camera import CSICamera\n",
        "\n",
        "camera = CSICamera(width=224, height=224, capture_fps=65)"
      ]
    },
    {
      "cell_type": "markdown",
      "metadata": {
        "id": "065yPPeI-HCr"
      },
      "source": [
        "Finally, execute the cell below to make the racecar move forward, steering the racecar based on the x value of the apex.\n",
        "\n",
        "Here are some tips,\n",
        "\n",
        "* If the car wobbles left and right,  lower the steering gain\n",
        "* If the car misses turns,  raise the steering gain\n",
        "* If the car tends right, make the steering bias more negative (in small increments like -0.05)\n",
        "* If the car tends left, make the steering bias more postive (in small increments +0.05)"
      ]
    },
    {
      "cell_type": "code",
      "execution_count": null,
      "metadata": {
        "id": "Z0wyDPeK-HCr"
      },
      "outputs": [],
      "source": [
        "from utils import preprocess\n",
        "import numpy as np\n",
        "\n",
        "STEERING_GAIN = 0.75\n",
        "STEERING_BIAS = 0.00\n",
        "\n",
        "car.throttle = 0.15\n",
        "\n",
        "while True:\n",
        "    image = camera.read()\n",
        "    image = preprocess(image).half()\n",
        "    output = model_trt(image).detach().cpu().numpy().flatten()\n",
        "    x = float(output[0])\n",
        "    car.steering = x * STEERING_GAIN + STEERING_BIAS"
      ]
    }
  ],
  "metadata": {
    "kernelspec": {
      "display_name": "Python 3",
      "language": "python",
      "name": "python3"
    },
    "language_info": {
      "codemirror_mode": {
        "name": "ipython",
        "version": 3
      },
      "file_extension": ".py",
      "mimetype": "text/x-python",
      "name": "python",
      "nbconvert_exporter": "python",
      "pygments_lexer": "ipython3",
      "version": "3.6.8"
    },
    "colab": {
      "provenance": []
    }
  },
  "nbformat": 4,
  "nbformat_minor": 0
}